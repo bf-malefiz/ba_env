{
 "cells": [
  {
   "cell_type": "markdown",
   "id": "a0a1a1fe",
   "metadata": {},
   "source": [
    "# Vorhersage von Sportergebnissen mittels probabilistischer Programmierung\n"
   ]
  },
  {
   "cell_type": "code",
   "execution_count": 18,
   "id": "43abeb76",
   "metadata": {},
   "outputs": [],
   "source": [
    "import numpy as np\n",
    "import pandas as pd\n",
    "\n",
    "import pymc as pm\n",
    "\n",
    "# import scipy\n",
    "\n",
    "# # for plotting\n",
    "# from matplotlib import pyplot as plt\n",
    "# from IPython.core.pylabtools import figsize\n",
    "\n",
    "# %matplotlib inline\n",
    "\n",
    "\n",
    "# # directed graphical models as pretty figures\n",
    "# import daft\n",
    "from collections import OrderedDict"
   ]
  },
  {
   "cell_type": "code",
   "execution_count": 2,
   "id": "420ea8e6",
   "metadata": {},
   "outputs": [],
   "source": [
    "# kwargs dict for histograms\n",
    "plot_hist_param = {\n",
    "    \"facecolor\": \"#2ab0ff\",\n",
    "    \"edgecolor\": \"#169acf\",\n",
    "    \"linewidth\": 0.5,\n",
    "    \"density\": True,\n",
    "}"
   ]
  },
  {
   "cell_type": "markdown",
   "id": "eb9ca52d",
   "metadata": {},
   "source": [
    "## Model 1\n",
    "\n",
    "Funktion zur plotten des einfaches Modells mit der Bibliothek `daft`."
   ]
  },
  {
   "cell_type": "code",
   "execution_count": 3,
   "id": "42258ab1",
   "metadata": {},
   "outputs": [
    {
     "ename": "NameError",
     "evalue": "name 'daft' is not defined",
     "output_type": "error",
     "traceback": [
      "\u001b[1;31m---------------------------------------------------------------------------\u001b[0m",
      "\u001b[1;31mNameError\u001b[0m                                 Traceback (most recent call last)",
      "Cell \u001b[1;32mIn[3], line 38\u001b[0m\n\u001b[0;32m     33\u001b[0m     \u001b[38;5;66;03m# if save:\u001b[39;00m\n\u001b[0;32m     34\u001b[0m     \u001b[38;5;66;03m#    pgm.savefig('pics/figure_6.png')\u001b[39;00m\n\u001b[0;32m     35\u001b[0m     pgm\u001b[38;5;241m.\u001b[39mrender()\n\u001b[1;32m---> 38\u001b[0m \u001b[43mplot_model\u001b[49m\u001b[43m(\u001b[49m\u001b[43m)\u001b[49m\n",
      "Cell \u001b[1;32mIn[3], line 2\u001b[0m, in \u001b[0;36mplot_model\u001b[1;34m(save)\u001b[0m\n\u001b[0;32m      1\u001b[0m \u001b[38;5;28;01mdef\u001b[39;00m \u001b[38;5;21mplot_model\u001b[39m(save\u001b[38;5;241m=\u001b[39m\u001b[38;5;28;01mTrue\u001b[39;00m):\n\u001b[1;32m----> 2\u001b[0m     pgm \u001b[38;5;241m=\u001b[39m \u001b[43mdaft\u001b[49m\u001b[38;5;241m.\u001b[39mPGM(\n\u001b[0;32m      3\u001b[0m         [\u001b[38;5;241m7.3\u001b[39m, \u001b[38;5;241m3.05\u001b[39m],\n\u001b[0;32m      4\u001b[0m         grid_unit\u001b[38;5;241m=\u001b[39m\u001b[38;5;241m2.0\u001b[39m,\n\u001b[0;32m      5\u001b[0m         node_unit\u001b[38;5;241m=\u001b[39m\u001b[38;5;241m1.0\u001b[39m,\n\u001b[0;32m      6\u001b[0m         origin\u001b[38;5;241m=\u001b[39m[\u001b[38;5;241m1.0\u001b[39m, \u001b[38;5;241m0.0\u001b[39m],\n\u001b[0;32m      7\u001b[0m         aspect\u001b[38;5;241m=\u001b[39m\u001b[38;5;241m1.0\u001b[39m,\n\u001b[0;32m      8\u001b[0m         dpi\u001b[38;5;241m=\u001b[39m\u001b[38;5;241m200\u001b[39m,\n\u001b[0;32m      9\u001b[0m     )\n\u001b[0;32m     10\u001b[0m     pgm\u001b[38;5;241m.\u001b[39madd_node(daft\u001b[38;5;241m.\u001b[39mNode(\u001b[38;5;124m\"\u001b[39m\u001b[38;5;124mo_i\u001b[39m\u001b[38;5;124m\"\u001b[39m, \u001b[38;5;124mr\u001b[39m\u001b[38;5;124m\"\u001b[39m\u001b[38;5;124moA\u001b[39m\u001b[38;5;124m\"\u001b[39m, \u001b[38;5;241m1.5\u001b[39m, \u001b[38;5;241m2\u001b[39m))\n\u001b[0;32m     11\u001b[0m     pgm\u001b[38;5;241m.\u001b[39madd_node(daft\u001b[38;5;241m.\u001b[39mNode(\u001b[38;5;124m\"\u001b[39m\u001b[38;5;124md_j\u001b[39m\u001b[38;5;124m\"\u001b[39m, \u001b[38;5;124mr\u001b[39m\u001b[38;5;124m\"\u001b[39m\u001b[38;5;124mdB\u001b[39m\u001b[38;5;124m\"\u001b[39m, \u001b[38;5;241m1.5\u001b[39m, \u001b[38;5;241m1\u001b[39m))\n",
      "\u001b[1;31mNameError\u001b[0m: name 'daft' is not defined"
     ]
    }
   ],
   "source": [
    "# def plot_model(save=True):\n",
    "#     pgm = daft.PGM(\n",
    "#         [7.3, 3.05],\n",
    "#         grid_unit=2.0,\n",
    "#         node_unit=1.0,\n",
    "#         origin=[1.0, 0.0],\n",
    "#         aspect=1.0,\n",
    "#         dpi=200,\n",
    "#     )\n",
    "#     pgm.add_node(daft.Node(\"o_i\", r\"oA\", 1.5, 2))\n",
    "#     pgm.add_node(daft.Node(\"d_j\", r\"dB\", 1.5, 1))\n",
    "\n",
    "#     pgm.add_node(daft.Node(\"o_j\", r\"oB\", 6.5, 1))\n",
    "#     pgm.add_node(daft.Node(\"d_i\", r\"dA\", 6.5, 2))\n",
    "\n",
    "#     # pgm.add_node(daft.Node(\"Delta\", r\"$\\Delta_{ij}$\", 2.5, 1))\n",
    "#     pgm.add_node(daft.Node(\"diffAB\", r\"$\\Delta$AB\", 2.5, 1.5))\n",
    "#     pgm.add_node(daft.Node(\"none_AB\", \"\", 2.5, 1.5, scale=0.85, aspect=1))\n",
    "#     pgm.add_node(daft.Node(\"gAB\", r\"gAB\", 3.5, 1.5, observed=True))\n",
    "\n",
    "#     pgm.add_node(daft.Node(\"diffBA\", r\"$\\Delta$BA\", 5.5, 1.5))\n",
    "#     pgm.add_node(daft.Node(\"none_BA\", \"\", 5.5, 1.5, scale=0.85, aspect=1))\n",
    "#     pgm.add_node(daft.Node(\"gBA\", r\"gBA\", 4.5, 1.5, observed=True))\n",
    "\n",
    "#     # Add in the edges.\n",
    "\n",
    "#     pgm.add_edge(\"o_i\", \"diffAB\")\n",
    "#     pgm.add_edge(\"d_j\", \"diffAB\")\n",
    "#     pgm.add_edge(\"diffAB\", \"gAB\")\n",
    "#     pgm.add_edge(\"o_j\", \"diffBA\")\n",
    "#     pgm.add_edge(\"d_i\", \"diffBA\")\n",
    "#     pgm.add_edge(\"diffBA\", \"gBA\")\n",
    "#     # if save:\n",
    "#     #    pgm.savefig('pics/figure_6.png')\n",
    "#     pgm.render()\n",
    "\n",
    "\n",
    "# plot_model()"
   ]
  },
  {
   "cell_type": "markdown",
   "id": "ae16da74",
   "metadata": {},
   "source": [
    "### Load Data\n",
    "\n",
    "\n",
    "Split the data in training and test set at a fixed date.\n",
    "\n"
   ]
  },
  {
   "cell_type": "code",
   "execution_count": 13,
   "id": "84cfa16f",
   "metadata": {},
   "outputs": [
    {
     "data": {
      "text/html": [
       "<div>\n",
       "<style scoped>\n",
       "    .dataframe tbody tr th:only-of-type {\n",
       "        vertical-align: middle;\n",
       "    }\n",
       "\n",
       "    .dataframe tbody tr th {\n",
       "        vertical-align: top;\n",
       "    }\n",
       "\n",
       "    .dataframe thead th {\n",
       "        text-align: right;\n",
       "    }\n",
       "</style>\n",
       "<table border=\"1\" class=\"dataframe\">\n",
       "  <thead>\n",
       "    <tr style=\"text-align: right;\">\n",
       "      <th></th>\n",
       "      <th>Div</th>\n",
       "      <th>Date</th>\n",
       "      <th>Time</th>\n",
       "      <th>HomeTeam</th>\n",
       "      <th>AwayTeam</th>\n",
       "      <th>FTHG</th>\n",
       "      <th>FTAG</th>\n",
       "      <th>FTR</th>\n",
       "      <th>HTHG</th>\n",
       "      <th>HTAG</th>\n",
       "      <th>...</th>\n",
       "      <th>AvgC&lt;2.5</th>\n",
       "      <th>AHCh</th>\n",
       "      <th>B365CAHH</th>\n",
       "      <th>B365CAHA</th>\n",
       "      <th>PCAHH</th>\n",
       "      <th>PCAHA</th>\n",
       "      <th>MaxCAHH</th>\n",
       "      <th>MaxCAHA</th>\n",
       "      <th>AvgCAHH</th>\n",
       "      <th>AvgCAHA</th>\n",
       "    </tr>\n",
       "  </thead>\n",
       "  <tbody>\n",
       "    <tr>\n",
       "      <th>0</th>\n",
       "      <td>D1</td>\n",
       "      <td>2023-08-18</td>\n",
       "      <td>19:30</td>\n",
       "      <td>Werder Bremen</td>\n",
       "      <td>Bayern Munich</td>\n",
       "      <td>0</td>\n",
       "      <td>4</td>\n",
       "      <td>A</td>\n",
       "      <td>0</td>\n",
       "      <td>1</td>\n",
       "      <td>...</td>\n",
       "      <td>3.29</td>\n",
       "      <td>1.75</td>\n",
       "      <td>1.85</td>\n",
       "      <td>2.08</td>\n",
       "      <td>1.88</td>\n",
       "      <td>2.03</td>\n",
       "      <td>1.92</td>\n",
       "      <td>2.09</td>\n",
       "      <td>1.85</td>\n",
       "      <td>2.00</td>\n",
       "    </tr>\n",
       "    <tr>\n",
       "      <th>1</th>\n",
       "      <td>D1</td>\n",
       "      <td>2023-08-19</td>\n",
       "      <td>14:30</td>\n",
       "      <td>Augsburg</td>\n",
       "      <td>M'gladbach</td>\n",
       "      <td>4</td>\n",
       "      <td>4</td>\n",
       "      <td>D</td>\n",
       "      <td>3</td>\n",
       "      <td>3</td>\n",
       "      <td>...</td>\n",
       "      <td>2.31</td>\n",
       "      <td>0.25</td>\n",
       "      <td>1.82</td>\n",
       "      <td>2.11</td>\n",
       "      <td>1.83</td>\n",
       "      <td>2.11</td>\n",
       "      <td>1.83</td>\n",
       "      <td>2.18</td>\n",
       "      <td>1.77</td>\n",
       "      <td>2.09</td>\n",
       "    </tr>\n",
       "    <tr>\n",
       "      <th>2</th>\n",
       "      <td>D1</td>\n",
       "      <td>2023-08-19</td>\n",
       "      <td>14:30</td>\n",
       "      <td>Hoffenheim</td>\n",
       "      <td>Freiburg</td>\n",
       "      <td>1</td>\n",
       "      <td>2</td>\n",
       "      <td>A</td>\n",
       "      <td>0</td>\n",
       "      <td>2</td>\n",
       "      <td>...</td>\n",
       "      <td>2.26</td>\n",
       "      <td>-0.25</td>\n",
       "      <td>1.91</td>\n",
       "      <td>2.02</td>\n",
       "      <td>1.92</td>\n",
       "      <td>2.01</td>\n",
       "      <td>1.98</td>\n",
       "      <td>2.02</td>\n",
       "      <td>1.91</td>\n",
       "      <td>1.95</td>\n",
       "    </tr>\n",
       "  </tbody>\n",
       "</table>\n",
       "<p>3 rows × 105 columns</p>\n",
       "</div>"
      ],
      "text/plain": [
       "  Div       Date   Time       HomeTeam       AwayTeam  FTHG  FTAG FTR  HTHG  \\\n",
       "0  D1 2023-08-18  19:30  Werder Bremen  Bayern Munich     0     4   A     0   \n",
       "1  D1 2023-08-19  14:30       Augsburg     M'gladbach     4     4   D     3   \n",
       "2  D1 2023-08-19  14:30     Hoffenheim       Freiburg     1     2   A     0   \n",
       "\n",
       "   HTAG  ... AvgC<2.5  AHCh  B365CAHH  B365CAHA  PCAHH  PCAHA  MaxCAHH  \\\n",
       "0     1  ...     3.29  1.75      1.85      2.08   1.88   2.03     1.92   \n",
       "1     3  ...     2.31  0.25      1.82      2.11   1.83   2.11     1.83   \n",
       "2     2  ...     2.26 -0.25      1.91      2.02   1.92   2.01     1.98   \n",
       "\n",
       "   MaxCAHA  AvgCAHH  AvgCAHA  \n",
       "0     2.09     1.85     2.00  \n",
       "1     2.18     1.77     2.09  \n",
       "2     2.02     1.91     1.95  \n",
       "\n",
       "[3 rows x 105 columns]"
      ]
     },
     "execution_count": 13,
     "metadata": {},
     "output_type": "execute_result"
    }
   ],
   "source": [
    "# load the data from https://www.football-data.co.uk/germanym.php\n",
    "# and copy it to a file\n",
    "filepath = \"S:/___Studium/Bachelor_Arbeit/ba_env/bundesliga/data/01_raw/D1_24-25.csv\"\n",
    "df = pd.read_csv(filepath, sep=\",\")\n",
    "df[\"Date\"] = pd.to_datetime(df[\"Date\"], format=\"%d/%m/%Y\")\n",
    "d1 = df\n",
    "d1.head(3)"
   ]
  },
  {
   "cell_type": "code",
   "execution_count": 14,
   "id": "c72ea235",
   "metadata": {},
   "outputs": [
    {
     "name": "stdout",
     "output_type": "stream",
     "text": [
      "['Augsburg' 'Bayern Munich' 'Bochum' 'Darmstadt' 'Dortmund'\n",
      " 'Ein Frankfurt' 'FC Koln' 'Freiburg' 'Heidenheim' 'Hoffenheim'\n",
      " 'Leverkusen' \"M'gladbach\" 'Mainz' 'RB Leipzig' 'Stuttgart' 'Union Berlin'\n",
      " 'Werder Bremen' 'Wolfsburg']\n"
     ]
    }
   ],
   "source": [
    "# all teams as numpy arrays\n",
    "\n",
    "t1 = d1.HomeTeam.unique().astype(\"U\")\n",
    "t2 = d1.AwayTeam.unique().astype(\"U\")\n",
    "teams = np.unique(np.concatenate((t1, t2)))\n",
    "\n",
    "print(teams)\n",
    "assert len(teams) == 18\n",
    "nb_teams = len(teams)"
   ]
  },
  {
   "cell_type": "code",
   "execution_count": null,
   "id": "f5915132",
   "metadata": {},
   "outputs": [],
   "source": []
  },
  {
   "cell_type": "code",
   "execution_count": 15,
   "id": "f06ad294",
   "metadata": {},
   "outputs": [
    {
     "data": {
      "text/html": [
       "<div>\n",
       "<style scoped>\n",
       "    .dataframe tbody tr th:only-of-type {\n",
       "        vertical-align: middle;\n",
       "    }\n",
       "\n",
       "    .dataframe tbody tr th {\n",
       "        vertical-align: top;\n",
       "    }\n",
       "\n",
       "    .dataframe thead th {\n",
       "        text-align: right;\n",
       "    }\n",
       "</style>\n",
       "<table border=\"1\" class=\"dataframe\">\n",
       "  <thead>\n",
       "    <tr style=\"text-align: right;\">\n",
       "      <th></th>\n",
       "      <th>Div</th>\n",
       "      <th>Date</th>\n",
       "      <th>Time</th>\n",
       "      <th>HomeTeam</th>\n",
       "      <th>AwayTeam</th>\n",
       "      <th>FTHG</th>\n",
       "      <th>FTAG</th>\n",
       "      <th>FTR</th>\n",
       "      <th>HTHG</th>\n",
       "      <th>HTAG</th>\n",
       "      <th>...</th>\n",
       "      <th>AvgC&lt;2.5</th>\n",
       "      <th>AHCh</th>\n",
       "      <th>B365CAHH</th>\n",
       "      <th>B365CAHA</th>\n",
       "      <th>PCAHH</th>\n",
       "      <th>PCAHA</th>\n",
       "      <th>MaxCAHH</th>\n",
       "      <th>MaxCAHA</th>\n",
       "      <th>AvgCAHH</th>\n",
       "      <th>AvgCAHA</th>\n",
       "    </tr>\n",
       "  </thead>\n",
       "  <tbody>\n",
       "    <tr>\n",
       "      <th>162</th>\n",
       "      <td>D1</td>\n",
       "      <td>2024-01-27</td>\n",
       "      <td>14:30</td>\n",
       "      <td>Augsburg</td>\n",
       "      <td>Bayern Munich</td>\n",
       "      <td>2</td>\n",
       "      <td>3</td>\n",
       "      <td>A</td>\n",
       "      <td>0</td>\n",
       "      <td>2</td>\n",
       "      <td>...</td>\n",
       "      <td>3.4</td>\n",
       "      <td>1.5</td>\n",
       "      <td>2.03</td>\n",
       "      <td>1.78</td>\n",
       "      <td>2.08</td>\n",
       "      <td>1.81</td>\n",
       "      <td>2.15</td>\n",
       "      <td>1.9</td>\n",
       "      <td>2.05</td>\n",
       "      <td>1.82</td>\n",
       "    </tr>\n",
       "  </tbody>\n",
       "</table>\n",
       "<p>1 rows × 105 columns</p>\n",
       "</div>"
      ],
      "text/plain": [
       "    Div       Date   Time  HomeTeam       AwayTeam  FTHG  FTAG FTR  HTHG  \\\n",
       "162  D1 2024-01-27  14:30  Augsburg  Bayern Munich     2     3   A     0   \n",
       "\n",
       "     HTAG  ... AvgC<2.5  AHCh  B365CAHH  B365CAHA  PCAHH  PCAHA  MaxCAHH  \\\n",
       "162     2  ...      3.4   1.5      2.03      1.78   2.08   1.81     2.15   \n",
       "\n",
       "     MaxCAHA  AvgCAHH  AvgCAHA  \n",
       "162      1.9     2.05     1.82  \n",
       "\n",
       "[1 rows x 105 columns]"
      ]
     },
     "execution_count": 15,
     "metadata": {},
     "output_type": "execute_result"
    }
   ],
   "source": [
    "# get data record from team indices\n",
    "def getResults(homeTeamIndex, awayTeamIndex, df=d1):\n",
    "    homeTeam = teams[homeTeamIndex]\n",
    "    awayTeam = teams[awayTeamIndex]\n",
    "    return df.query(\"HomeTeam == '\" + homeTeam + \"' and AwayTeam == '\" + awayTeam + \"'\")\n",
    "\n",
    "\n",
    "getResults(0, 1)"
   ]
  },
  {
   "cell_type": "code",
   "execution_count": 19,
   "id": "cb063da3",
   "metadata": {},
   "outputs": [],
   "source": [
    "# build team lexicon\n",
    "# map from team-index to Name\n",
    "team_indices = OrderedDict()\n",
    "for i, t in enumerate(teams):\n",
    "    team_indices[t] = i"
   ]
  },
  {
   "cell_type": "code",
   "execution_count": 20,
   "id": "d6681ac6",
   "metadata": {},
   "outputs": [
    {
     "data": {
      "text/plain": [
       "[(16, 1, 0), (0, 11, 4), (9, 7, 1)]"
      ]
     },
     "execution_count": 20,
     "metadata": {},
     "output_type": "execute_result"
    }
   ],
   "source": [
    "GOALS_HOME = \"FTHG\"\n",
    "GOALS_AWAY = \"FTAG\"\n",
    "\n",
    "\n",
    "def get_goal_results(d=d1, gh=GOALS_HOME):\n",
    "    result = list()\n",
    "    for r in d.iterrows():\n",
    "        home_team = r[1].HomeTeam\n",
    "        away_team = r[1].AwayTeam\n",
    "        goals = r[1][gh]\n",
    "        result.append((team_indices[home_team], team_indices[away_team], goals))\n",
    "    return result\n",
    "\n",
    "\n",
    "home_goals_ = get_goal_results(gh=GOALS_HOME)\n",
    "away_goals_ = get_goal_results(gh=GOALS_AWAY)\n",
    "\n",
    "# list of tuples\n",
    "# (home_team-index, away_team_index, scored_goals of home team resp. away team)\n",
    "home_goals_[:3]"
   ]
  },
  {
   "cell_type": "code",
   "execution_count": 21,
   "id": "a282344e",
   "metadata": {},
   "outputs": [],
   "source": [
    "low = 10e-8  # Constant"
   ]
  },
  {
   "cell_type": "code",
   "execution_count": 22,
   "id": "6b095e2f-2a12-467d-993a-c5b9adcfdfba",
   "metadata": {},
   "outputs": [],
   "source": [
    "def vectorized_data(home_goals_, away_goals_):\n",
    "    home_id = np.array([hg[0] for hg in home_goals_])\n",
    "    away_id = np.array([hg[1] for hg in home_goals_])\n",
    "    home_goals = np.array([hg[2] for hg in home_goals_])\n",
    "    away_goals = np.array([ag[2] for ag in away_goals_])\n",
    "    toto = np.where(\n",
    "        home_goals == away_goals, 0, np.where(home_goals > away_goals, 1, 2)\n",
    "    )\n",
    "    return home_id, away_id, home_goals, away_goals, toto\n",
    "\n",
    "\n",
    "home_id, away_id, home_goals, away_goals, toto = vectorized_data(\n",
    "    home_goals_, away_goals_\n",
    ")"
   ]
  },
  {
   "cell_type": "markdown",
   "id": "c4cb746e",
   "metadata": {},
   "source": [
    "#### PyMC Model 1"
   ]
  },
  {
   "cell_type": "code",
   "execution_count": 23,
   "id": "7e937afa",
   "metadata": {},
   "outputs": [],
   "source": [
    "model1 = pm.Model()\n",
    "min_mu = 0.0001\n",
    "average_goals = 3.0  # average nb of goals in a game\n",
    "with model1:\n",
    "    offence = pm.Normal(\"offence\", tau=1.0, mu=average_goals / 2, shape=nb_teams)\n",
    "    defence = pm.Normal(\"defence\", tau=1.0, mu=0.0, shape=nb_teams)\n",
    "\n",
    "    offence_home = offence[home_id]\n",
    "    defence_home = defence[home_id]\n",
    "    offence_away = offence[away_id]\n",
    "    defence_away = defence[away_id]\n",
    "\n",
    "    mu_home = offence_home - defence_away\n",
    "    mu_away = offence_away - defence_home\n",
    "    # note: use exponent in practice instead of switch\n",
    "    mu_home = pm.math.switch(mu_home > min_mu, mu_home, min_mu)\n",
    "    mu_away = pm.math.switch(mu_away > min_mu, mu_away, min_mu)\n",
    "\n",
    "    pm.Poisson(\"home_goals\", observed=home_goals, mu=mu_home)\n",
    "    pm.Poisson(\"away_goals\", observed=away_goals, mu=mu_away)"
   ]
  },
  {
   "cell_type": "code",
   "execution_count": 27,
   "id": "fa1bd87e",
   "metadata": {},
   "outputs": [
    {
     "name": "stderr",
     "output_type": "stream",
     "text": [
      "Initializing NUTS using jitter+adapt_diag...\n",
      "Multiprocess sampling (4 chains in 4 jobs)\n",
      "NUTS: [offence, defence]\n"
     ]
    },
    {
     "data": {
      "application/vnd.jupyter.widget-view+json": {
       "model_id": "a1ea51ced8584f8bb30cb61d9eefe614",
       "version_major": 2,
       "version_minor": 0
      },
      "text/plain": [
       "Output()"
      ]
     },
     "metadata": {},
     "output_type": "display_data"
    },
    {
     "data": {
      "text/html": [
       "<pre style=\"white-space:pre;overflow-x:auto;line-height:normal;font-family:Menlo,'DejaVu Sans Mono',consolas,'Courier New',monospace\"></pre>\n"
      ],
      "text/plain": []
     },
     "metadata": {},
     "output_type": "display_data"
    },
    {
     "name": "stderr",
     "output_type": "stream",
     "text": [
      "Sampling 4 chains for 200 tune and 2_000 draw iterations (800 + 8_000 draws total) took 17 seconds.\n",
      "There were 54 divergences after tuning. Increase `target_accept` or reparameterize.\n"
     ]
    }
   ],
   "source": [
    "nb_samples = 2000\n",
    "### tune adds additional number of samples.\n",
    "### after sampling these additional samples get discarded\n",
    "### as the very first samples are very inaccurate\n",
    "tune = nb_samples // 10\n",
    "\n",
    "with model1:\n",
    "    # with model1_home_advantage:\n",
    "    trace = pm.sample(draws=nb_samples, tune=tune)"
   ]
  },
  {
   "cell_type": "code",
   "execution_count": 28,
   "id": "73e15022",
   "metadata": {},
   "outputs": [],
   "source": [
    "posterior = trace.posterior.stack(sample=[\"chain\", \"draw\"])\n",
    "offence = posterior[\"offence\"]\n",
    "defence = posterior[\"defence\"]\n",
    "# home_advantage = posterior[\"home_advantage\"]"
   ]
  },
  {
   "cell_type": "code",
   "execution_count": 29,
   "id": "86debcea",
   "metadata": {},
   "outputs": [
    {
     "name": "stdout",
     "output_type": "stream",
     "text": [
      "Mean offence strenght per team:\n",
      "Augsburg   1.4081445389213634\n",
      "Bayern Munich   2.5684435859125077\n",
      "Bochum   1.1969517330971202\n",
      "Darmstadt   1.0119682160012513\n",
      "Dortmund   1.8835738117194571\n",
      "Ein Frankfurt   1.507360822942184\n",
      "FC Koln   0.8006354784389708\n",
      "Freiburg   1.3742459107188638\n",
      "Heidenheim   1.5405232408806\n",
      "Hoffenheim   1.892230806468013\n",
      "Leverkusen   2.4751214526642618\n",
      "M'gladbach   1.560808339230915\n",
      "Mainz   1.1811349179144244\n",
      "RB Leipzig   2.222607841558937\n",
      "Stuttgart   2.224565717943431\n",
      "Union Berlin   0.9037108482975578\n",
      "Werder Bremen   1.3440511293471331\n",
      "Wolfsburg   1.2564356309405424\n"
     ]
    }
   ],
   "source": [
    "print(\"Mean offence strenght per team:\")\n",
    "for t in teams:\n",
    "    i = team_indices[t]\n",
    "    print(t, \" \", offence[i].mean().values)"
   ]
  },
  {
   "cell_type": "code",
   "execution_count": 30,
   "id": "67f32689",
   "metadata": {},
   "outputs": [
    {
     "name": "stdout",
     "output_type": "stream",
     "text": [
      "Mean defence strenght per team:\n",
      "Augsburg \t -0.21382891904049228\n",
      "Bayern Munich \t 0.15246533484971364\n",
      "Bochum \t -0.5600340615327845\n",
      "Darmstadt \t -0.8268541753713478\n",
      "Dortmund \t 0.24215819335855798\n",
      "Ein Frankfurt \t 0.03558422382174073\n",
      "FC Koln \t -0.18107222386261798\n",
      "Freiburg \t -0.03430868784955947\n",
      "Heidenheim \t -0.09575797427309952\n",
      "Hoffenheim \t -0.41931959850928446\n",
      "Leverkusen \t 0.7240296296572912\n",
      "M'gladbach \t -0.5175570335853779\n",
      "Mainz \t 0.03161232810035987\n",
      "RB Leipzig \t 0.3602239978136989\n",
      "Stuttgart \t 0.3211512990751493\n",
      "Union Berlin \t -0.15566794474493872\n",
      "Werder Bremen \t -0.06565255935195542\n",
      "Wolfsburg \t -0.11656695568116035\n"
     ]
    }
   ],
   "source": [
    "### mean of offence strength\n",
    "print(\"Mean defence strenght per team:\")\n",
    "for t in teams:\n",
    "    i = team_indices[t]\n",
    "    print(t, \"\\t\", defence[i].mean().values)"
   ]
  },
  {
   "cell_type": "code",
   "execution_count": null,
   "id": "46e7a078",
   "metadata": {},
   "outputs": [
    {
     "data": {
      "image/png": "[encoded data removed]",
      "text/plain": [
       "<Figure size 1000x1200 with 12 Axes>"
      ]
     },
     "metadata": {},
     "output_type": "display_data"
    }
   ],
   "source": [
    "show_teams = 5\n",
    "# show_teams = nb_teams\n",
    "\n",
    "bins = 40\n",
    "fig, axes = plt.subplots(\n",
    "    nrows=show_teams + 1, ncols=2, figsize=(10, (show_teams + 1) * 2)\n",
    ")\n",
    "\n",
    "for x, (t, i) in enumerate(team_indices.items()):\n",
    "    title = \"Offence of \" + t\n",
    "    axes[i, 0].set_title(title)\n",
    "    axes[i, 0].hist(offence[i], bins=bins, range=(0, 4.2), **plot_hist_param)\n",
    "\n",
    "    axes[i, 1].hist(defence[i], bins=bins, range=(-2.0, 2.2), **plot_hist_param)\n",
    "    title = \"Defence of \" + t\n",
    "    axes[i, 1].set_title(title)\n",
    "    if x >= show_teams:\n",
    "        break\n",
    "\n",
    "# fig.suptitle(\"Offence and defence distribution of the clubs.\")\n",
    "fig.subplots_adjust(hspace=0.5)\n",
    "fig.tight_layout()\n",
    "# plt.savefig('pics/figure_7.png')"
   ]
  },
  {
   "cell_type": "markdown",
   "id": "7ced52f1",
   "metadata": {},
   "source": []
  },
  {
   "cell_type": "code",
   "execution_count": null,
   "id": "22a17aa8-7b45-49bc-8aa4-78ab02389cf5",
   "metadata": {},
   "outputs": [
    {
     "name": "stderr",
     "output_type": "stream",
     "text": [
      "Sampling: [away_goals, home_goals]\n"
     ]
    },
    {
     "data": {
      "text/html": [
       "\n",
       "<style>\n",
       "    /* Turns off some styling */\n",
       "    progress {\n",
       "        /* gets rid of default border in Firefox and Opera. */\n",
       "        border: none;\n",
       "        /* Needs to be in here for Safari polyfill so background images work as expected. */\n",
       "        background-size: auto;\n",
       "    }\n",
       "    progress:not([value]), progress:not([value])::-webkit-progress-bar {\n",
       "        background: repeating-linear-gradient(45deg, #7e7e7e, #7e7e7e 10px, #5c5c5c 10px, #5c5c5c 20px);\n",
       "    }\n",
       "    .progress-bar-interrupted, .progress-bar-interrupted::-webkit-progress-bar {\n",
       "        background: #F44336;\n",
       "    }\n",
       "</style>\n"
      ],
      "text/plain": [
       "<IPython.core.display.HTML object>"
      ]
     },
     "metadata": {},
     "output_type": "display_data"
    },
    {
     "data": {
      "text/html": [
       "\n",
       "    <div>\n",
       "      <progress value='8000' class='' max='8000' style='width:300px; height:20px; vertical-align: middle;'></progress>\n",
       "      100.00% [8000/8000 00:00&lt;00:00]\n",
       "    </div>\n",
       "    "
      ],
      "text/plain": [
       "<IPython.core.display.HTML object>"
      ]
     },
     "metadata": {},
     "output_type": "display_data"
    }
   ],
   "source": [
    "# pm.predictions_to_inference_data\n",
    "with model1:\n",
    "    samples = pm.sample_posterior_predictive(trace)"
   ]
  },
  {
   "cell_type": "code",
   "execution_count": null,
   "id": "806bed6a",
   "metadata": {},
   "outputs": [],
   "source": [
    "def get_diffs(\n",
    "    team_1, team_2, offence, defence\n",
    "):  # toDO: offenc defence add in function from model1\n",
    "    diff_ij = offence[team_1] - defence[team_2]\n",
    "    diff_ji = offence[team_2] - defence[team_1]\n",
    "    return diff_ij, diff_ji\n"
   ]
  },
  {
   "cell_type": "code",
   "execution_count": null,
   "id": "698386f6",
   "metadata": {},
   "outputs": [],
   "source": [
    "def get_probs_winner(teamIndex1, teamIndex2):\n",
    "    diff_ij, diff_ji = get_diffs(teamIndex1, teamIndex2)\n",
    "    diff_ij[diff_ij < min_mu] = min_mu\n",
    "    diff_ji[diff_ji < min_mu] = min_mu\n",
    "\n",
    "    goals_of_team_1 = np.array([np.random.poisson(r) for r in diff_ij])\n",
    "    goals_of_team_2 = np.array([np.random.poisson(r) for r in diff_ji])\n",
    "\n",
    "    team1_wins = goals_of_team_1 > goals_of_team_2\n",
    "    team2_wins = goals_of_team_1 < goals_of_team_2\n",
    "    tie = goals_of_team_1 == goals_of_team_2\n",
    "\n",
    "    p1 = team1_wins.mean()\n",
    "    p2 = team2_wins.mean()\n",
    "    tie = tie.mean()\n",
    "    np.testing.assert_almost_equal(1.0, p1 + tie + p2)\n",
    "    return tie, p1, p2"
   ]
  },
  {
   "cell_type": "code",
   "execution_count": null,
   "id": "1162460d",
   "metadata": {},
   "outputs": [],
   "source": [
    "def get_goal_distribution(diff, max_goals=20):\n",
    "    poisson_goals = np.zeros(max_goals)\n",
    "    k = np.arange(0, max_goals)\n",
    "    for lambda_ in diff:\n",
    "        lambda_ = max(low, lambda_)\n",
    "        poisson_goals += scipy.stats.poisson.pmf(k, lambda_)\n",
    "    poisson_goals = poisson_goals / poisson_goals.sum()\n",
    "    return poisson_goals"
   ]
  },
  {
   "cell_type": "code",
   "execution_count": null,
   "id": "9cafb86e",
   "metadata": {},
   "outputs": [],
   "source": [
    "def plot_goal_diffs(team_1, team_2, max_goals=8):\n",
    "    diff_ij, diff_ji = get_diffs(team_1, team_2)\n",
    "    poisson_goals_1 = get_goal_distribution(diff_ij, max_goals)\n",
    "    poisson_goals_2 = get_goal_distribution(diff_ji, max_goals)\n",
    "    # Create the figure and axes objects, specify the size and the dots per inches\n",
    "    fig, ax = plt.subplots(figsize=(6, 4), dpi=96)\n",
    "\n",
    "    # Plot bars\n",
    "    x = np.arange(0, max_goals)\n",
    "    width = 0.4\n",
    "    bar1 = ax.bar(\n",
    "        x - width / 2,\n",
    "        poisson_goals_1,\n",
    "        width=width,\n",
    "        alpha=0.9,\n",
    "        label=\"Tore von \" + teams[team_1],\n",
    "    )  # Add in title and subtitle\n",
    "    bar2 = ax.bar(\n",
    "        x + width / 2,\n",
    "        poisson_goals_2,\n",
    "        width=width,\n",
    "        alpha=0.9,\n",
    "        label=\"Tore von \" + teams[team_2],\n",
    "    )  # Add in title and subtitle\n",
    "    ax.set_xticks(x, x)\n",
    "    ax.text(\n",
    "        x=0.12,\n",
    "        y=0.93,\n",
    "        s=\"Torvorhersage\",\n",
    "        transform=fig.transFigure,\n",
    "        ha=\"left\",\n",
    "        fontsize=10,\n",
    "        weight=\"bold\",\n",
    "        alpha=1.0,\n",
    "    )\n",
    "    ax.text(\n",
    "        x=0.12,\n",
    "        y=0.90,\n",
    "        s=teams[team_1] + \" gegen \" + teams[team_2],\n",
    "        transform=fig.transFigure,\n",
    "        ha=\"left\",\n",
    "        fontsize=8,\n",
    "        alpha=1.0,\n",
    "    )\n",
    "    ax.legend()\n",
    "    # figure for book\n",
    "    # plt.savefig('pics/figure_8    defence_dim_0  int64 1 (8000,).png')"
   ]
  },
  {
   "cell_type": "code",
   "execution_count": 22,
   "id": "0d91adf2",
   "metadata": {},
   "outputs": [
    {
     "data": {
      "image/png": "[encoded data removed]",
      "text/plain": [
       "<Figure size 576x384 with 1 Axes>"
      ]
     },
     "metadata": {},
     "output_type": "display_data"
    }
   ],
   "source": [
    "teamIndex1, teamIndex2 = 1, 3\n",
    "plot_goal_diffs(teamIndex1, teamIndex2)"
   ]
  },
  {
   "cell_type": "code",
   "execution_count": 23,
   "id": "ef9758df",
   "metadata": {},
   "outputs": [
    {
     "data": {
      "text/plain": [
       "(0.178875, 0.48625, 0.334875)"
      ]
     },
     "execution_count": 23,
     "metadata": {},
     "output_type": "execute_result"
    }
   ],
   "source": [
    "get_probs_winner(teamIndex1, teamIndex2)"
   ]
  },
  {
   "cell_type": "markdown",
   "id": "9a9c4534",
   "metadata": {},
   "source": [
    "# Model 2"
   ]
  },
  {
   "cell_type": "code",
   "execution_count": null,
   "id": "af2879bb",
   "metadata": {
    "scrolled": true
   },
   "outputs": [
    {
     "data": {
      "image/png": "[encoded data removed]",
      "text/plain": [
       "<Figure size 862.205x496.063 with 1 Axes>"
      ]
     },
     "metadata": {},
     "output_type": "display_data"
    }
   ],
   "source": [
    "import daft\n",
    "\n",
    "y_shift = 0.75\n",
    "\n",
    "\n",
    "def plot_model(home=False, result=False):\n",
    "    if home:\n",
    "        pgm = daft.PGM(\n",
    "            [7.3, 4.2],\n",
    "            grid_unit=2.0,\n",
    "            node_unit=1.0,\n",
    "            origin=[0.0, 0.0],\n",
    "            aspect=1.0,\n",
    "            dpi=150,\n",
    "        )\n",
    "\n",
    "        pgm.add_node(daft.Node(\"sA_\", r\"sA\", 0.5, 1.65 + y_shift))\n",
    "        pgm.add_node(daft.Node(\"h\", r\"h\", 0.5, 2.35 + y_shift))\n",
    "        pgm.add_node(daft.Node(\"sA\", r\"+\", 1.5, 2 + y_shift))\n",
    "        pgm.add_node(daft.Node(\"none_+\", \"\", 1.5, 2 + y_shift, scale=0.85, aspect=1))\n",
    "        pgm.add_edge(\"sA_\", \"sA\")\n",
    "        pgm.add_edge(\"h\", \"sA\")\n",
    "    else:\n",
    "        pgm = daft.PGM(\n",
    "            [6.3, 4.2],\n",
    "            grid_unit=2.0,\n",
    "            node_unit=1.0,\n",
    "            origin=[1.0, 0.0],\n",
    "            aspect=1.0,\n",
    "            dpi=150,\n",
    "        )\n",
    "        pgm.add_node(daft.Node(\"sA\", r\"sA\", 1.5, 2.8))\n",
    "\n",
    "    pgm.add_node(daft.Node(\"aA\", r\"aA\", 1.5, 2.8 + y_shift))\n",
    "\n",
    "    pgm.add_node(daft.Node(\"aB\", r\"aB\", 1.5, 0.3))\n",
    "    pgm.add_node(daft.Node(\"sB\", r\"sB\", 1.5, 1.0))\n",
    "\n",
    "    # pgm.add_node(daft.Node(\"Delta\", r\"$\\Delta_{ij}$\", 2.5, 1))\n",
    "    pgm.add_node(daft.Node(\"oA\", r\"oA\", 2.5, 1.9 + y_shift))\n",
    "    pgm.add_node(daft.Node(\"none_oA\", \"\", 2.5, 1.9 + y_shift, scale=0.85, aspect=1))\n",
    "    pgm.add_node(daft.Node(\"dA\", r\"dA\", 2.5, 2.6 + y_shift))\n",
    "    pgm.add_node(daft.Node(\"none_dA\", \"\", 2.5, 2.6 + y_shift, scale=0.85, aspect=1))\n",
    "\n",
    "    pgm.add_node(daft.Node(\"dB\", r\"dB\", 2.5, 1.1))\n",
    "    pgm.add_node(daft.Node(\"none_dB\", \"\", 2.5, 1.1, scale=0.85, aspect=1))\n",
    "\n",
    "    pgm.add_node(daft.Node(\"oB\", r\"oB\", 2.5, 0.4))\n",
    "    pgm.add_node(daft.Node(\"none_oB\", \"\", 2.5, 0.4, scale=0.85, aspect=1))\n",
    "\n",
    "    pgm.add_node(daft.Node(\"diffAB\", r\"$\\Delta$AB\", 3.5, 1.5 + y_shift / 2))\n",
    "    pgm.add_node(daft.Node(\"none_AB\", \"\", 3.5, 1.5 + y_shift / 2, scale=0.85, aspect=1))\n",
    "\n",
    "    pgm.add_node(daft.Node(\"diffBA\", r\"$\\Delta$BA\", 5.5, 1.5 + y_shift / 2))\n",
    "    pgm.add_node(daft.Node(\"none_BA\", \"\", 5.5, 1.5 + y_shift / 2, scale=0.85, aspect=1))\n",
    "\n",
    "    pgm.add_node(daft.Node(\"gAB\", r\"gAB\", 4.5, 1.5 + y_shift / 2, observed=True))\n",
    "    pgm.add_node(daft.Node(\"gBA\", r\"gBA\", 6.5, 1.5 + y_shift / 2, observed=True))\n",
    "\n",
    "    # Add in the edges.\n",
    "    pgm.add_edge(\"sA\", \"oA\")\n",
    "    pgm.add_edge(\"aA\", \"oA\")\n",
    "    pgm.add_edge(\"sA\", \"dA\")\n",
    "    pgm.add_edge(\"aA\", \"dA\")\n",
    "\n",
    "    pgm.add_edge(\"sB\", \"oB\")\n",
    "    pgm.add_edge(\"aB\", \"oB\")\n",
    "    pgm.add_edge(\"sB\", \"dB\")\n",
    "    pgm.add_edge(\"aB\", \"dB\")\n",
    "\n",
    "    pgm.add_edge(\"oA\", \"diffAB\")\n",
    "    pgm.add_edge(\"dB\", \"diffAB\")\n",
    "    pgm.add_edge(\"diffAB\", \"gAB\")\n",
    "    pgm.add_edge(\"oB\", \"diffBA\")\n",
    "    pgm.add_edge(\"dA\", \"diffBA\")\n",
    "    pgm.add_edge(\"diffBA\", \"gBA\")\n",
    "\n",
    "    if result:\n",
    "        pgm.add_node(daft.Node(\"w\", r\"$\\bf{w}$\", 1.5, 1.5 + y_shift / 2))\n",
    "        pgm.add_node(\n",
    "            daft.Node(\"result\", r\"result\", 2.5, 1.5 + y_shift / 2, observed=True)\n",
    "        )\n",
    "        pgm.add_edge(\"w\", \"result\")\n",
    "        pgm.add_edge(\"sA\", \"result\")\n",
    "        pgm.add_edge(\"sB\", \"result\")\n",
    "\n",
    "    # And plates.\n",
    "    pgm.render()\n",
    "\n",
    "\n",
    "# plot_model(True, True)\n",
    "plot_model(True, False)\n",
    "# plot_model(False, False)"
   ]
  },
  {
   "cell_type": "code",
   "execution_count": null,
   "id": "2b7a6087-c666-4923-ac0d-856cb7b94410",
   "metadata": {},
   "outputs": [],
   "source": [
    "model2 = pm.Model()\n",
    "with model2:\n",
    "    score = pm.Normal(\"score\", tau=1.0, mu=0.0, shape=nb_teams)\n",
    "    offence_defence_diff = pm.Normal(\n",
    "        \"offence_defence_diff\", tau=1.0, mu=average_goals / 2.0, shape=nb_teams\n",
    "    )\n",
    "\n",
    "    home_advantage = pm.Normal(\"home_advantage\", tau=10.0, mu=0.0)\n",
    "\n",
    "    # softmax regression weights for winner predicton:\n",
    "    weights = pm.Normal(\"weights\", mu=(0.0, 0.25, -0.25), tau=100.0, shape=(3))\n",
    "\n",
    "    score_home = score[home_id] + home_advantage\n",
    "    offence_home = score_home + offence_defence_diff[home_id]\n",
    "    defence_home = score[home_id] - offence_defence_diff[home_id]\n",
    "    offence_away = score[away_id] + offence_defence_diff[away_id]\n",
    "    defence_away = score[away_id] - offence_defence_diff[away_id]\n",
    "\n",
    "    mu_home = pm.math.exp(offence_home - defence_away)\n",
    "    mu_away = pm.math.exp(offence_away - defence_home)\n",
    "    home_value = pm.math.switch(mu_home < min_mu, min_mu, mu_home)\n",
    "    away_value = pm.math.switch(mu_away < min_mu, min_mu, mu_away)\n",
    "\n",
    "    pm.Poisson(\"home_goals\", observed=home_goals, mu=mu_home)\n",
    "    pm.Poisson(\"away_goals\", observed=away_goals, mu=mu_away)\n",
    "\n",
    "    home_away_score_diff = score_home - score[away_id]\n",
    "    home_away_score_diff = home_away_score_diff.reshape((-1, 1)).repeat(3, axis=1)\n",
    "\n",
    "    pred = pm.math.exp(home_away_score_diff * weights)\n",
    "    pred = (pred.T / pm.math.sum(pred, axis=1)).T\n",
    "    pm.Categorical(\"toto\", p=pred, observed=toto)"
   ]
  },
  {
   "cell_type": "code",
   "execution_count": null,
   "id": "913fa4c6",
   "metadata": {},
   "outputs": [
    {
     "name": "stderr",
     "output_type": "stream",
     "text": [
      "Auto-assigning NUTS sampler...\n",
      "Initializing NUTS using jitter+adapt_diag...\n",
      "Multiprocess sampling (4 chains in 4 jobs)\n",
      "NUTS: [score, offence_defence_diff, home_advantage, weights]\n"
     ]
    },
    {
     "data": {
      "text/html": [
       "\n",
       "<style>\n",
       "    /* Turns off some styling */\n",
       "    progress {\n",
       "        /* gets rid of default border in Firefox and Opera. */\n",
       "        border: none;\n",
       "        /* Needs to be in here for Safari polyfill so background images work as expected. */\n",
       "        background-size: auto;\n",
       "    }\n",
       "    progress:not([value]), progress:not([value])::-webkit-progress-bar {\n",
       "        background: repeating-linear-gradient(45deg, #7e7e7e, #7e7e7e 10px, #5c5c5c 10px, #5c5c5c 20px);\n",
       "    }\n",
       "    .progress-bar-interrupted, .progress-bar-interrupted::-webkit-progress-bar {\n",
       "        background: #F44336;\n",
       "    }\n",
       "</style>\n"
      ],
      "text/plain": [
       "<IPython.core.display.HTML object>"
      ]
     },
     "metadata": {},
     "output_type": "display_data"
    },
    {
     "data": {
      "text/html": [
       "\n",
       "    <div>\n",
       "      <progress value='43107' class='' max='44000' style='width:300px; height:20px; vertical-align: middle;'></progress>\n",
       "      97.97% [43107/44000 01:04&lt;00:01 Sampling 4 chains, 0 divergences]\n",
       "    </div>\n",
       "    "
      ],
      "text/plain": [
       "<IPython.core.display.HTML object>"
      ]
     },
     "metadata": {},
     "output_type": "display_data"
    }
   ],
   "source": [
    "nb_samples = 10000\n",
    "### tune adds additional number of samples.\n",
    "### after sampling these additional samples get discarded\n",
    "### as the very first samples are very inaccurate\n",
    "tune = nb_samples // 10\n",
    "\n",
    "with model2:\n",
    "    trace_ = pm.sample(draws=nb_samples, tune=tune)"
   ]
  },
  {
   "cell_type": "code",
   "execution_count": null,
   "id": "c1e911b1",
   "metadata": {},
   "outputs": [],
   "source": [
    "posterior = trace_.posterior.stack(sample=[\"chain\", \"draw\"])\n",
    "weights = posterior[\"weights\"]\n",
    "offence_defence_diff = posterior[\"offence_defence_diff\"]\n",
    "score = posterior[\"score\"]\n",
    "home_advantage = posterior[\"home_advantage\"]"
   ]
  },
  {
   "cell_type": "code",
   "execution_count": null,
   "id": "af6b5f3f",
   "metadata": {},
   "outputs": [],
   "source": [
    "bins = 40\n",
    "fig, axes = plt.subplots(nrows=3, ncols=1, figsize=(7, 5))\n",
    "\n",
    "for i in range(3):\n",
    "    axes[i].set_title(\"weight \" + str(i))\n",
    "    axes[i].hist(weights.data[i, :], bins=bins, range=(-1, 1), **plot_hist_param)\n",
    "\n",
    "    # fig.suptitle(\"Offence and defence distribution of the clubs.\")\n",
    "fig.subplots_adjust(hspace=0.5)\n",
    "fig.tight_layout()"
   ]
  },
  {
   "cell_type": "code",
   "execution_count": null,
   "id": "1fb9cbdf",
   "metadata": {},
   "outputs": [],
   "source": [
    "### mean of offence strength\n",
    "print(\"Mean score and offence_defence_diff:\")\n",
    "\n",
    "team_score = dict()\n",
    "for t in teams:\n",
    "    i = team_indices[t]\n",
    "    print(t, \"\\t\", score[i].mean().values, offence_defence_diff[i].mean().values)\n",
    "    team_score[t] = score[i].mean().values"
   ]
  },
  {
   "cell_type": "code",
   "execution_count": null,
   "id": "d39cb7cf",
   "metadata": {},
   "outputs": [],
   "source": [
    "from collections import OrderedDict\n",
    "\n",
    "d_descending = OrderedDict(\n",
    "    sorted(team_score.items(), key=lambda kv: kv[1], reverse=True)\n",
    ")\n",
    "score_list = {team: float(score) for team, score in d_descending.items()}\n",
    "score_list"
   ]
  },
  {
   "cell_type": "code",
   "execution_count": null,
   "id": "c808e37f",
   "metadata": {},
   "outputs": [],
   "source": [
    "tabelle = [\n",
    "    \"Bayern Munich\",\n",
    "    \"Dortmund\",\n",
    "    \"RB Leipzig\",\n",
    "    \"Union Berlin\",\n",
    "    \"Freiburg\",\n",
    "    \"Leverkusen\",\n",
    "    \"Ein Frankfurt\",\n",
    "    \"Wolfsburg\",\n",
    "    \"Mainz\",\n",
    "    \"M'gladbach\",\n",
    "    \"FC Koln\",\n",
    "    \"Hoffenheim\",\n",
    "    \"Werder Bremen\",\n",
    "    \"Bochum\",\n",
    "    \"Augsburg\",\n",
    "    \"Stuttgart\",\n",
    "    \"Schalke 04\",\n",
    "    \"Hertha\",\n",
    "]\n",
    "tabelle_place = {team: (i + 1) for i, team in enumerate(tabelle)}\n",
    "# tabelle_place[tabelle[0]]\n",
    "tabelle_scores = [\n",
    "    [team, scores, tabelle_place[team]] for team, scores in score_list.items()\n",
    "]\n",
    "tabelle_scores"
   ]
  },
  {
   "cell_type": "code",
   "execution_count": null,
   "id": "412adbd8",
   "metadata": {},
   "outputs": [],
   "source": [
    "# from tabulate import tabulate\n",
    "# col_names = [\"Team\", \"Spielstärke\", \"Tabellenplatz\"]\n",
    "# print(tabulate(tabelle_scores, headers=col_names, tablefmt=\"pretty\"))"
   ]
  },
  {
   "cell_type": "code",
   "execution_count": null,
   "id": "4be080c7",
   "metadata": {},
   "outputs": [],
   "source": [
    "print(\"Durchschnittlicher Heimvorteil\", home_advantage.mean())\n",
    "\n",
    "fig, axes = plt.subplots(nrows=1, ncols=1, figsize=(5, 5))\n",
    "title = \"Heimvorteil\"\n",
    "plt.title(title)\n",
    "plt.hist(home_advantage, bins=bins, range=(-0.5, 1), **plot_hist_param)"
   ]
  },
  {
   "cell_type": "code",
   "execution_count": null,
   "id": "5a696fc5",
   "metadata": {},
   "outputs": [],
   "source": [
    "bins = 40\n",
    "MAX_TEAMS = 4  # nb_teams\n",
    "\n",
    "fig, axes = plt.subplots(nrows=MAX_TEAMS, ncols=2, figsize=(10, 3 * MAX_TEAMS))\n",
    "\n",
    "for t, i in team_indices.items():\n",
    "    title = \"Spielstärke \" + t\n",
    "    axes[i, 0].set_title(title)\n",
    "    axes[i, 0].hist(score[i], bins=bins, range=(-2, 3), **plot_hist_param)\n",
    "\n",
    "    axes[i, 1].hist(\n",
    "        offence_defence_diff[i], bins=bins, range=(-2.0, 2.2), **plot_hist_param\n",
    "    )\n",
    "\n",
    "    title = \"Offensive-Devensiv-Abweichung \" + t\n",
    "    axes[i, 1].set_title(title)\n",
    "\n",
    "    if i == MAX_TEAMS - 1:\n",
    "        break\n",
    "\n",
    "# fig.suptitle(\"Score and offence-defence difference of the teams.\")\n",
    "fig.subplots_adjust(hspace=0.5)\n",
    "fig.tight_layout()"
   ]
  },
  {
   "cell_type": "code",
   "execution_count": null,
   "id": "e8171e2f",
   "metadata": {},
   "outputs": [],
   "source": [
    "def get_diffs_(ta, th):\n",
    "    add_h = offence_defence_diff[ta]\n",
    "    home_offence = score[ta] + add_h\n",
    "    home_defence = score[ta] - add_h\n",
    "\n",
    "    add_a = offence_defence_diff[th]\n",
    "    away_offence = score[th] + add_a\n",
    "    away_defence = score[th] - add_a\n",
    "\n",
    "    return home_offence - away_defence, away_offence - home_defence"
   ]
  },
  {
   "cell_type": "code",
   "execution_count": null,
   "id": "942474a1",
   "metadata": {},
   "outputs": [],
   "source": [
    "diff_ij_, diff_ji_ = get_diffs_(1, 17)\n",
    "poisson_goals_1_a = get_goal_distribution(diff_ij_)\n",
    "poisson_goals_2_a = get_goal_distribution(diff_ji_)"
   ]
  },
  {
   "cell_type": "code",
   "execution_count": null,
   "id": "383e13e3",
   "metadata": {},
   "outputs": [],
   "source": []
  },
  {
   "cell_type": "code",
   "execution_count": null,
   "id": "43194462-d74e-46d1-8dc0-ba69ab39b47f",
   "metadata": {},
   "outputs": [],
   "source": []
  },
  {
   "cell_type": "code",
   "execution_count": null,
   "id": "5238e860-0873-4dfd-b3b5-35bb5c04e098",
   "metadata": {},
   "outputs": [],
   "source": []
  }
 ],
 "metadata": {
  "kernelspec": {
   "display_name": "Python 3",
   "language": "python",
   "name": "python3"
  },
  "language_info": {
   "codemirror_mode": {
    "name": "ipython",
    "version": 3
   },
   "file_extension": ".py",
   "mimetype": "text/x-python",
   "name": "python",
   "nbconvert_exporter": "python",
   "pygments_lexer": "ipython3",
   "version": "3.12.8"
  }
 },
 "nbformat": 4,
 "nbformat_minor": 5
}
