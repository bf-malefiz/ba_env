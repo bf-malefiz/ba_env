{
 "cells": [
  {
   "cell_type": "code",
   "execution_count": 1,
   "metadata": {},
   "outputs": [
    {
     "data": {
      "text/html": [
       "<pre style=\"white-space:pre;overflow-x:auto;line-height:normal;font-family:Menlo,'DejaVu Sans Mono',consolas,'Courier New',monospace\"><span style=\"color: #7fbfbf; text-decoration-color: #7fbfbf\">[12/16/24 12:13:14] </span><span style=\"color: #000080; text-decoration-color: #000080\">INFO    </span> Using                                                                  <a href=\"file://h:\\Programs\\Anaconda\\envs\\.conda_ba_env\\Lib\\site-packages\\kedro\\framework\\project\\__init__.py\" target=\"_blank\"><span style=\"color: #7f7f7f; text-decoration-color: #7f7f7f\">__init__.py</span></a><span style=\"color: #7f7f7f; text-decoration-color: #7f7f7f\">:</span><a href=\"file://h:\\Programs\\Anaconda\\envs\\.conda_ba_env\\Lib\\site-packages\\kedro\\framework\\project\\__init__.py#270\" target=\"_blank\"><span style=\"color: #7f7f7f; text-decoration-color: #7f7f7f\">270</span></a>\n",
       "<span style=\"color: #7fbfbf; text-decoration-color: #7fbfbf\">                    </span>         <span style=\"color: #008000; text-decoration-color: #008000\">'h:\\Programs\\Anaconda\\envs\\.conda_ba_env\\Lib\\site-packages\\kedro\\frame</span> <span style=\"color: #7f7f7f; text-decoration-color: #7f7f7f\">               </span>\n",
       "<span style=\"color: #7fbfbf; text-decoration-color: #7fbfbf\">                    </span>         <span style=\"color: #008000; text-decoration-color: #008000\">work\\project\\rich_logging.yml'</span> as logging configuration.               <span style=\"color: #7f7f7f; text-decoration-color: #7f7f7f\">               </span>\n",
       "</pre>\n"
      ],
      "text/plain": [
       "\u001b[2;36m[12/16/24 12:13:14]\u001b[0m\u001b[2;36m \u001b[0m\u001b[34mINFO    \u001b[0m Using                                                                  \u001b]8;id=196152;file://h:\\Programs\\Anaconda\\envs\\.conda_ba_env\\Lib\\site-packages\\kedro\\framework\\project\\__init__.py\u001b\\\u001b[2m__init__.py\u001b[0m\u001b]8;;\u001b\\\u001b[2m:\u001b[0m\u001b]8;id=697062;file://h:\\Programs\\Anaconda\\envs\\.conda_ba_env\\Lib\\site-packages\\kedro\\framework\\project\\__init__.py#270\u001b\\\u001b[2m270\u001b[0m\u001b]8;;\u001b\\\n",
       "\u001b[2;36m                    \u001b[0m         \u001b[32m'h:\\Programs\\Anaconda\\envs\\.conda_ba_env\\Lib\\site-packages\\kedro\\frame\u001b[0m \u001b[2m               \u001b[0m\n",
       "\u001b[2;36m                    \u001b[0m         \u001b[32mwork\\project\\rich_logging.yml'\u001b[0m as logging configuration.               \u001b[2m               \u001b[0m\n"
      ]
     },
     "metadata": {},
     "output_type": "display_data"
    },
    {
     "data": {
      "text/html": [
       "<pre style=\"white-space:pre;overflow-x:auto;line-height:normal;font-family:Menlo,'DejaVu Sans Mono',consolas,'Courier New',monospace\"><span style=\"color: #7fbfbf; text-decoration-color: #7fbfbf\">                    </span><span style=\"color: #000080; text-decoration-color: #000080\">INFO    </span> Registered line magic <span style=\"color: #008000; text-decoration-color: #008000\">'%reload_kedro'</span>                                   <a href=\"file://h:\\Programs\\Anaconda\\envs\\.conda_ba_env\\Lib\\site-packages\\kedro\\ipython\\__init__.py\" target=\"_blank\"><span style=\"color: #7f7f7f; text-decoration-color: #7f7f7f\">__init__.py</span></a><span style=\"color: #7f7f7f; text-decoration-color: #7f7f7f\">:</span><a href=\"file://h:\\Programs\\Anaconda\\envs\\.conda_ba_env\\Lib\\site-packages\\kedro\\ipython\\__init__.py#61\" target=\"_blank\"><span style=\"color: #7f7f7f; text-decoration-color: #7f7f7f\">61</span></a>\n",
       "</pre>\n"
      ],
      "text/plain": [
       "\u001b[2;36m                   \u001b[0m\u001b[2;36m \u001b[0m\u001b[34mINFO    \u001b[0m Registered line magic \u001b[32m'%reload_kedro'\u001b[0m                                   \u001b]8;id=998400;file://h:\\Programs\\Anaconda\\envs\\.conda_ba_env\\Lib\\site-packages\\kedro\\ipython\\__init__.py\u001b\\\u001b[2m__init__.py\u001b[0m\u001b]8;;\u001b\\\u001b[2m:\u001b[0m\u001b]8;id=24081;file://h:\\Programs\\Anaconda\\envs\\.conda_ba_env\\Lib\\site-packages\\kedro\\ipython\\__init__.py#61\u001b\\\u001b[2m61\u001b[0m\u001b]8;;\u001b\\\n"
      ]
     },
     "metadata": {},
     "output_type": "display_data"
    },
    {
     "data": {
      "text/html": [
       "<pre style=\"white-space:pre;overflow-x:auto;line-height:normal;font-family:Menlo,'DejaVu Sans Mono',consolas,'Courier New',monospace\"><span style=\"color: #7fbfbf; text-decoration-color: #7fbfbf\">                    </span><span style=\"color: #000080; text-decoration-color: #000080\">INFO    </span> Registered line magic <span style=\"color: #008000; text-decoration-color: #008000\">'%load_node'</span>                                      <a href=\"file://h:\\Programs\\Anaconda\\envs\\.conda_ba_env\\Lib\\site-packages\\kedro\\ipython\\__init__.py\" target=\"_blank\"><span style=\"color: #7f7f7f; text-decoration-color: #7f7f7f\">__init__.py</span></a><span style=\"color: #7f7f7f; text-decoration-color: #7f7f7f\">:</span><a href=\"file://h:\\Programs\\Anaconda\\envs\\.conda_ba_env\\Lib\\site-packages\\kedro\\ipython\\__init__.py#63\" target=\"_blank\"><span style=\"color: #7f7f7f; text-decoration-color: #7f7f7f\">63</span></a>\n",
       "</pre>\n"
      ],
      "text/plain": [
       "\u001b[2;36m                   \u001b[0m\u001b[2;36m \u001b[0m\u001b[34mINFO    \u001b[0m Registered line magic \u001b[32m'%load_node'\u001b[0m                                      \u001b]8;id=702457;file://h:\\Programs\\Anaconda\\envs\\.conda_ba_env\\Lib\\site-packages\\kedro\\ipython\\__init__.py\u001b\\\u001b[2m__init__.py\u001b[0m\u001b]8;;\u001b\\\u001b[2m:\u001b[0m\u001b]8;id=332458;file://h:\\Programs\\Anaconda\\envs\\.conda_ba_env\\Lib\\site-packages\\kedro\\ipython\\__init__.py#63\u001b\\\u001b[2m63\u001b[0m\u001b]8;;\u001b\\\n"
      ]
     },
     "metadata": {},
     "output_type": "display_data"
    },
    {
     "data": {
      "text/html": [
       "<pre style=\"white-space:pre;overflow-x:auto;line-height:normal;font-family:Menlo,'DejaVu Sans Mono',consolas,'Courier New',monospace\"><span style=\"color: #7fbfbf; text-decoration-color: #7fbfbf\">                    </span><span style=\"color: #000080; text-decoration-color: #000080\">INFO    </span> Resolved project path as:                                              <a href=\"file://h:\\Programs\\Anaconda\\envs\\.conda_ba_env\\Lib\\site-packages\\kedro\\ipython\\__init__.py\" target=\"_blank\"><span style=\"color: #7f7f7f; text-decoration-color: #7f7f7f\">__init__.py</span></a><span style=\"color: #7f7f7f; text-decoration-color: #7f7f7f\">:</span><a href=\"file://h:\\Programs\\Anaconda\\envs\\.conda_ba_env\\Lib\\site-packages\\kedro\\ipython\\__init__.py#178\" target=\"_blank\"><span style=\"color: #7f7f7f; text-decoration-color: #7f7f7f\">178</span></a>\n",
       "<span style=\"color: #7fbfbf; text-decoration-color: #7fbfbf\">                    </span>         s:\\___Studium\\Bachelor_Arbeit\\ba_env\\bundesliga.                       <span style=\"color: #7f7f7f; text-decoration-color: #7f7f7f\">               </span>\n",
       "<span style=\"color: #7fbfbf; text-decoration-color: #7fbfbf\">                    </span>         To set a different path, run <span style=\"color: #008000; text-decoration-color: #008000\">'%reload_kedro &lt;project_root&gt;'</span>            <span style=\"color: #7f7f7f; text-decoration-color: #7f7f7f\">               </span>\n",
       "</pre>\n"
      ],
      "text/plain": [
       "\u001b[2;36m                   \u001b[0m\u001b[2;36m \u001b[0m\u001b[34mINFO    \u001b[0m Resolved project path as:                                              \u001b]8;id=168911;file://h:\\Programs\\Anaconda\\envs\\.conda_ba_env\\Lib\\site-packages\\kedro\\ipython\\__init__.py\u001b\\\u001b[2m__init__.py\u001b[0m\u001b]8;;\u001b\\\u001b[2m:\u001b[0m\u001b]8;id=541320;file://h:\\Programs\\Anaconda\\envs\\.conda_ba_env\\Lib\\site-packages\\kedro\\ipython\\__init__.py#178\u001b\\\u001b[2m178\u001b[0m\u001b]8;;\u001b\\\n",
       "\u001b[2;36m                    \u001b[0m         s:\\___Studium\\Bachelor_Arbeit\\ba_env\\bundesliga.                       \u001b[2m               \u001b[0m\n",
       "\u001b[2;36m                    \u001b[0m         To set a different path, run \u001b[32m'%reload_kedro \u001b[0m\u001b[32m<\u001b[0m\u001b[32mproject_root\u001b[0m\u001b[32m>\u001b[0m\u001b[32m'\u001b[0m            \u001b[2m               \u001b[0m\n"
      ]
     },
     "metadata": {},
     "output_type": "display_data"
    },
    {
     "data": {
      "text/html": [
       "<pre style=\"white-space:pre;overflow-x:auto;line-height:normal;font-family:Menlo,'DejaVu Sans Mono',consolas,'Courier New',monospace\"><span style=\"color: #7fbfbf; text-decoration-color: #7fbfbf\">[12/16/24 12:13:15] </span><span style=\"color: #000080; text-decoration-color: #000080\">INFO    </span> Kedro project bundesliga                                               <a href=\"file://h:\\Programs\\Anaconda\\envs\\.conda_ba_env\\Lib\\site-packages\\kedro\\ipython\\__init__.py\" target=\"_blank\"><span style=\"color: #7f7f7f; text-decoration-color: #7f7f7f\">__init__.py</span></a><span style=\"color: #7f7f7f; text-decoration-color: #7f7f7f\">:</span><a href=\"file://h:\\Programs\\Anaconda\\envs\\.conda_ba_env\\Lib\\site-packages\\kedro\\ipython\\__init__.py#144\" target=\"_blank\"><span style=\"color: #7f7f7f; text-decoration-color: #7f7f7f\">144</span></a>\n",
       "</pre>\n"
      ],
      "text/plain": [
       "\u001b[2;36m[12/16/24 12:13:15]\u001b[0m\u001b[2;36m \u001b[0m\u001b[34mINFO    \u001b[0m Kedro project bundesliga                                               \u001b]8;id=327137;file://h:\\Programs\\Anaconda\\envs\\.conda_ba_env\\Lib\\site-packages\\kedro\\ipython\\__init__.py\u001b\\\u001b[2m__init__.py\u001b[0m\u001b]8;;\u001b\\\u001b[2m:\u001b[0m\u001b]8;id=513585;file://h:\\Programs\\Anaconda\\envs\\.conda_ba_env\\Lib\\site-packages\\kedro\\ipython\\__init__.py#144\u001b\\\u001b[2m144\u001b[0m\u001b]8;;\u001b\\\n"
      ]
     },
     "metadata": {},
     "output_type": "display_data"
    },
    {
     "data": {
      "text/html": [
       "<pre style=\"white-space:pre;overflow-x:auto;line-height:normal;font-family:Menlo,'DejaVu Sans Mono',consolas,'Courier New',monospace\"><span style=\"color: #7fbfbf; text-decoration-color: #7fbfbf\">                    </span><span style=\"color: #000080; text-decoration-color: #000080\">INFO    </span> Defined global variable <span style=\"color: #008000; text-decoration-color: #008000\">'context'</span>, <span style=\"color: #008000; text-decoration-color: #008000\">'session'</span>, <span style=\"color: #008000; text-decoration-color: #008000\">'catalog'</span> and            <a href=\"file://h:\\Programs\\Anaconda\\envs\\.conda_ba_env\\Lib\\site-packages\\kedro\\ipython\\__init__.py\" target=\"_blank\"><span style=\"color: #7f7f7f; text-decoration-color: #7f7f7f\">__init__.py</span></a><span style=\"color: #7f7f7f; text-decoration-color: #7f7f7f\">:</span><a href=\"file://h:\\Programs\\Anaconda\\envs\\.conda_ba_env\\Lib\\site-packages\\kedro\\ipython\\__init__.py#145\" target=\"_blank\"><span style=\"color: #7f7f7f; text-decoration-color: #7f7f7f\">145</span></a>\n",
       "<span style=\"color: #7fbfbf; text-decoration-color: #7fbfbf\">                    </span>         <span style=\"color: #008000; text-decoration-color: #008000\">'pipelines'</span>                                                            <span style=\"color: #7f7f7f; text-decoration-color: #7f7f7f\">               </span>\n",
       "</pre>\n"
      ],
      "text/plain": [
       "\u001b[2;36m                   \u001b[0m\u001b[2;36m \u001b[0m\u001b[34mINFO    \u001b[0m Defined global variable \u001b[32m'context'\u001b[0m, \u001b[32m'session'\u001b[0m, \u001b[32m'catalog'\u001b[0m and            \u001b]8;id=480322;file://h:\\Programs\\Anaconda\\envs\\.conda_ba_env\\Lib\\site-packages\\kedro\\ipython\\__init__.py\u001b\\\u001b[2m__init__.py\u001b[0m\u001b]8;;\u001b\\\u001b[2m:\u001b[0m\u001b]8;id=51563;file://h:\\Programs\\Anaconda\\envs\\.conda_ba_env\\Lib\\site-packages\\kedro\\ipython\\__init__.py#145\u001b\\\u001b[2m145\u001b[0m\u001b]8;;\u001b\\\n",
       "\u001b[2;36m                    \u001b[0m         \u001b[32m'pipelines'\u001b[0m                                                            \u001b[2m               \u001b[0m\n"
      ]
     },
     "metadata": {},
     "output_type": "display_data"
    },
    {
     "data": {
      "text/html": [
       "<pre style=\"white-space:pre;overflow-x:auto;line-height:normal;font-family:Menlo,'DejaVu Sans Mono',consolas,'Courier New',monospace\"><span style=\"color: #7fbfbf; text-decoration-color: #7fbfbf\">[12/16/24 12:13:16] </span><span style=\"color: #000080; text-decoration-color: #000080\">INFO    </span> Registered line magic <span style=\"color: #008000; text-decoration-color: #008000\">'run_viz'</span>                                        <a href=\"file://h:\\Programs\\Anaconda\\envs\\.conda_ba_env\\Lib\\site-packages\\kedro\\ipython\\__init__.py\" target=\"_blank\"><span style=\"color: #7f7f7f; text-decoration-color: #7f7f7f\">__init__.py</span></a><span style=\"color: #7f7f7f; text-decoration-color: #7f7f7f\">:</span><a href=\"file://h:\\Programs\\Anaconda\\envs\\.conda_ba_env\\Lib\\site-packages\\kedro\\ipython\\__init__.py#151\" target=\"_blank\"><span style=\"color: #7f7f7f; text-decoration-color: #7f7f7f\">151</span></a>\n",
       "</pre>\n"
      ],
      "text/plain": [
       "\u001b[2;36m[12/16/24 12:13:16]\u001b[0m\u001b[2;36m \u001b[0m\u001b[34mINFO    \u001b[0m Registered line magic \u001b[32m'run_viz'\u001b[0m                                        \u001b]8;id=627444;file://h:\\Programs\\Anaconda\\envs\\.conda_ba_env\\Lib\\site-packages\\kedro\\ipython\\__init__.py\u001b\\\u001b[2m__init__.py\u001b[0m\u001b]8;;\u001b\\\u001b[2m:\u001b[0m\u001b]8;id=516778;file://h:\\Programs\\Anaconda\\envs\\.conda_ba_env\\Lib\\site-packages\\kedro\\ipython\\__init__.py#151\u001b\\\u001b[2m151\u001b[0m\u001b]8;;\u001b\\\n"
      ]
     },
     "metadata": {},
     "output_type": "display_data"
    },
    {
     "data": {
      "text/html": [
       "<pre style=\"white-space:pre;overflow-x:auto;line-height:normal;font-family:Menlo,'DejaVu Sans Mono',consolas,'Courier New',monospace\"><span style=\"color: #7fbfbf; text-decoration-color: #7fbfbf\">                    </span><span style=\"color: #000080; text-decoration-color: #000080\">INFO    </span> Resolved project path as:                                              <a href=\"file://h:\\Programs\\Anaconda\\envs\\.conda_ba_env\\Lib\\site-packages\\kedro\\ipython\\__init__.py\" target=\"_blank\"><span style=\"color: #7f7f7f; text-decoration-color: #7f7f7f\">__init__.py</span></a><span style=\"color: #7f7f7f; text-decoration-color: #7f7f7f\">:</span><a href=\"file://h:\\Programs\\Anaconda\\envs\\.conda_ba_env\\Lib\\site-packages\\kedro\\ipython\\__init__.py#178\" target=\"_blank\"><span style=\"color: #7f7f7f; text-decoration-color: #7f7f7f\">178</span></a>\n",
       "<span style=\"color: #7fbfbf; text-decoration-color: #7fbfbf\">                    </span>         S:\\___Studium\\Bachelor_Arbeit\\ba_env\\bundesliga.                       <span style=\"color: #7f7f7f; text-decoration-color: #7f7f7f\">               </span>\n",
       "<span style=\"color: #7fbfbf; text-decoration-color: #7fbfbf\">                    </span>         To set a different path, run <span style=\"color: #008000; text-decoration-color: #008000\">'%reload_kedro &lt;project_root&gt;'</span>            <span style=\"color: #7f7f7f; text-decoration-color: #7f7f7f\">               </span>\n",
       "</pre>\n"
      ],
      "text/plain": [
       "\u001b[2;36m                   \u001b[0m\u001b[2;36m \u001b[0m\u001b[34mINFO    \u001b[0m Resolved project path as:                                              \u001b]8;id=444201;file://h:\\Programs\\Anaconda\\envs\\.conda_ba_env\\Lib\\site-packages\\kedro\\ipython\\__init__.py\u001b\\\u001b[2m__init__.py\u001b[0m\u001b]8;;\u001b\\\u001b[2m:\u001b[0m\u001b]8;id=270437;file://h:\\Programs\\Anaconda\\envs\\.conda_ba_env\\Lib\\site-packages\\kedro\\ipython\\__init__.py#178\u001b\\\u001b[2m178\u001b[0m\u001b]8;;\u001b\\\n",
       "\u001b[2;36m                    \u001b[0m         S:\\___Studium\\Bachelor_Arbeit\\ba_env\\bundesliga.                       \u001b[2m               \u001b[0m\n",
       "\u001b[2;36m                    \u001b[0m         To set a different path, run \u001b[32m'%reload_kedro \u001b[0m\u001b[32m<\u001b[0m\u001b[32mproject_root\u001b[0m\u001b[32m>\u001b[0m\u001b[32m'\u001b[0m            \u001b[2m               \u001b[0m\n"
      ]
     },
     "metadata": {},
     "output_type": "display_data"
    },
    {
     "data": {
      "text/html": [
       "<pre style=\"white-space:pre;overflow-x:auto;line-height:normal;font-family:Menlo,'DejaVu Sans Mono',consolas,'Courier New',monospace\"><span style=\"color: #7fbfbf; text-decoration-color: #7fbfbf\">                    </span><span style=\"color: #000080; text-decoration-color: #000080\">INFO    </span> Kedro project bundesliga                                               <a href=\"file://h:\\Programs\\Anaconda\\envs\\.conda_ba_env\\Lib\\site-packages\\kedro\\ipython\\__init__.py\" target=\"_blank\"><span style=\"color: #7f7f7f; text-decoration-color: #7f7f7f\">__init__.py</span></a><span style=\"color: #7f7f7f; text-decoration-color: #7f7f7f\">:</span><a href=\"file://h:\\Programs\\Anaconda\\envs\\.conda_ba_env\\Lib\\site-packages\\kedro\\ipython\\__init__.py#144\" target=\"_blank\"><span style=\"color: #7f7f7f; text-decoration-color: #7f7f7f\">144</span></a>\n",
       "</pre>\n"
      ],
      "text/plain": [
       "\u001b[2;36m                   \u001b[0m\u001b[2;36m \u001b[0m\u001b[34mINFO    \u001b[0m Kedro project bundesliga                                               \u001b]8;id=398270;file://h:\\Programs\\Anaconda\\envs\\.conda_ba_env\\Lib\\site-packages\\kedro\\ipython\\__init__.py\u001b\\\u001b[2m__init__.py\u001b[0m\u001b]8;;\u001b\\\u001b[2m:\u001b[0m\u001b]8;id=180693;file://h:\\Programs\\Anaconda\\envs\\.conda_ba_env\\Lib\\site-packages\\kedro\\ipython\\__init__.py#144\u001b\\\u001b[2m144\u001b[0m\u001b]8;;\u001b\\\n"
      ]
     },
     "metadata": {},
     "output_type": "display_data"
    },
    {
     "data": {
      "text/html": [
       "<pre style=\"white-space:pre;overflow-x:auto;line-height:normal;font-family:Menlo,'DejaVu Sans Mono',consolas,'Courier New',monospace\"><span style=\"color: #7fbfbf; text-decoration-color: #7fbfbf\">                    </span><span style=\"color: #000080; text-decoration-color: #000080\">INFO    </span> Defined global variable <span style=\"color: #008000; text-decoration-color: #008000\">'context'</span>, <span style=\"color: #008000; text-decoration-color: #008000\">'session'</span>, <span style=\"color: #008000; text-decoration-color: #008000\">'catalog'</span> and            <a href=\"file://h:\\Programs\\Anaconda\\envs\\.conda_ba_env\\Lib\\site-packages\\kedro\\ipython\\__init__.py\" target=\"_blank\"><span style=\"color: #7f7f7f; text-decoration-color: #7f7f7f\">__init__.py</span></a><span style=\"color: #7f7f7f; text-decoration-color: #7f7f7f\">:</span><a href=\"file://h:\\Programs\\Anaconda\\envs\\.conda_ba_env\\Lib\\site-packages\\kedro\\ipython\\__init__.py#145\" target=\"_blank\"><span style=\"color: #7f7f7f; text-decoration-color: #7f7f7f\">145</span></a>\n",
       "<span style=\"color: #7fbfbf; text-decoration-color: #7fbfbf\">                    </span>         <span style=\"color: #008000; text-decoration-color: #008000\">'pipelines'</span>                                                            <span style=\"color: #7f7f7f; text-decoration-color: #7f7f7f\">               </span>\n",
       "</pre>\n"
      ],
      "text/plain": [
       "\u001b[2;36m                   \u001b[0m\u001b[2;36m \u001b[0m\u001b[34mINFO    \u001b[0m Defined global variable \u001b[32m'context'\u001b[0m, \u001b[32m'session'\u001b[0m, \u001b[32m'catalog'\u001b[0m and            \u001b]8;id=604099;file://h:\\Programs\\Anaconda\\envs\\.conda_ba_env\\Lib\\site-packages\\kedro\\ipython\\__init__.py\u001b\\\u001b[2m__init__.py\u001b[0m\u001b]8;;\u001b\\\u001b[2m:\u001b[0m\u001b]8;id=676001;file://h:\\Programs\\Anaconda\\envs\\.conda_ba_env\\Lib\\site-packages\\kedro\\ipython\\__init__.py#145\u001b\\\u001b[2m145\u001b[0m\u001b]8;;\u001b\\\n",
       "\u001b[2;36m                    \u001b[0m         \u001b[32m'pipelines'\u001b[0m                                                            \u001b[2m               \u001b[0m\n"
      ]
     },
     "metadata": {},
     "output_type": "display_data"
    },
    {
     "data": {
      "text/html": [
       "<pre style=\"white-space:pre;overflow-x:auto;line-height:normal;font-family:Menlo,'DejaVu Sans Mono',consolas,'Courier New',monospace\"><span style=\"color: #7fbfbf; text-decoration-color: #7fbfbf\">                    </span><span style=\"color: #000080; text-decoration-color: #000080\">INFO    </span> Registered line magic <span style=\"color: #008000; text-decoration-color: #008000\">'run_viz'</span>                                        <a href=\"file://h:\\Programs\\Anaconda\\envs\\.conda_ba_env\\Lib\\site-packages\\kedro\\ipython\\__init__.py\" target=\"_blank\"><span style=\"color: #7f7f7f; text-decoration-color: #7f7f7f\">__init__.py</span></a><span style=\"color: #7f7f7f; text-decoration-color: #7f7f7f\">:</span><a href=\"file://h:\\Programs\\Anaconda\\envs\\.conda_ba_env\\Lib\\site-packages\\kedro\\ipython\\__init__.py#151\" target=\"_blank\"><span style=\"color: #7f7f7f; text-decoration-color: #7f7f7f\">151</span></a>\n",
       "</pre>\n"
      ],
      "text/plain": [
       "\u001b[2;36m                   \u001b[0m\u001b[2;36m \u001b[0m\u001b[34mINFO    \u001b[0m Registered line magic \u001b[32m'run_viz'\u001b[0m                                        \u001b]8;id=236284;file://h:\\Programs\\Anaconda\\envs\\.conda_ba_env\\Lib\\site-packages\\kedro\\ipython\\__init__.py\u001b\\\u001b[2m__init__.py\u001b[0m\u001b]8;;\u001b\\\u001b[2m:\u001b[0m\u001b]8;id=37292;file://h:\\Programs\\Anaconda\\envs\\.conda_ba_env\\Lib\\site-packages\\kedro\\ipython\\__init__.py#151\u001b\\\u001b[2m151\u001b[0m\u001b]8;;\u001b\\\n"
      ]
     },
     "metadata": {},
     "output_type": "display_data"
    }
   ],
   "source": [
    "%load_ext kedro.ipython\n",
    "%reload_kedro\n",
    "%load_ext autoreload\n",
    "%autoreload 2"
   ]
  },
  {
   "cell_type": "code",
   "execution_count": 2,
   "metadata": {},
   "outputs": [
    {
     "data": {
      "text/html": [
       "<pre style=\"white-space:pre;overflow-x:auto;line-height:normal;font-family:Menlo,'DejaVu Sans Mono',consolas,'Courier New',monospace\"><span style=\"color: #7fbfbf; text-decoration-color: #7fbfbf\">                    </span><span style=\"color: #000080; text-decoration-color: #000080\">INFO    </span> Loading data from <span style=\"color: #ff8700; text-decoration-color: #ff8700\">D1_24-</span><span style=\"color: #008080; text-decoration-color: #008080; font-weight: bold\">25</span> <span style=\"font-weight: bold\">(</span>CSVDataset<span style=\"font-weight: bold\">)</span><span style=\"color: #808000; text-decoration-color: #808000\">...</span>                         <a href=\"file://h:\\Programs\\Anaconda\\envs\\.conda_ba_env\\Lib\\site-packages\\kedro\\io\\data_catalog.py\" target=\"_blank\"><span style=\"color: #7f7f7f; text-decoration-color: #7f7f7f\">data_catalog.py</span></a><span style=\"color: #7f7f7f; text-decoration-color: #7f7f7f\">:</span><a href=\"file://h:\\Programs\\Anaconda\\envs\\.conda_ba_env\\Lib\\site-packages\\kedro\\io\\data_catalog.py#389\" target=\"_blank\"><span style=\"color: #7f7f7f; text-decoration-color: #7f7f7f\">389</span></a>\n",
       "</pre>\n"
      ],
      "text/plain": [
       "\u001b[2;36m                   \u001b[0m\u001b[2;36m \u001b[0m\u001b[34mINFO    \u001b[0m Loading data from \u001b[38;5;208mD1_24-\u001b[0m\u001b[1;36m25\u001b[0m \u001b[1m(\u001b[0mCSVDataset\u001b[1m)\u001b[0m\u001b[33m...\u001b[0m                         \u001b]8;id=374576;file://h:\\Programs\\Anaconda\\envs\\.conda_ba_env\\Lib\\site-packages\\kedro\\io\\data_catalog.py\u001b\\\u001b[2mdata_catalog.py\u001b[0m\u001b]8;;\u001b\\\u001b[2m:\u001b[0m\u001b]8;id=464604;file://h:\\Programs\\Anaconda\\envs\\.conda_ba_env\\Lib\\site-packages\\kedro\\io\\data_catalog.py#389\u001b\\\u001b[2m389\u001b[0m\u001b]8;;\u001b\\\n"
      ]
     },
     "metadata": {},
     "output_type": "display_data"
    }
   ],
   "source": [
    "from collections import OrderedDict\n",
    "\n",
    "import numpy as np\n",
    "import pandas as pd\n",
    "\n",
    "GOALS_HOME = \"FTHG\"\n",
    "GOALS_AWAY = \"FTAG\"\n",
    "df = catalog.load(\"D1_24-25\")\n",
    "\n",
    "\n",
    "def _get_teams(df: pd.DataFrame) -> np.array:\n",
    "    team1 = df[\"HomeTeam\"].unique().astype(\"U\")\n",
    "    team2 = df[\"AwayTeam\"].unique().astype(\"U\")\n",
    "    teams = np.unique(np.concatenate((team1, team2)))\n",
    "\n",
    "    assert len(teams) == 18\n",
    "    # nb_teams = len(teams)\n",
    "\n",
    "    return teams\n",
    "\n",
    "\n",
    "def _get_teams_new(df: pd.DataFrame) -> np.array:\n",
    "    teams, uniques = pd.factorize(\n",
    "        df[[\"HomeTeam\", \"AwayTeam\"]].values.flatten(), sort=True\n",
    "    )\n",
    "\n",
    "    return teams, uniques\n",
    "\n",
    "\n",
    "def _build_team_lexicon(teams: np.array) -> pd.DataFrame:\n",
    "    team_indices = OrderedDict()\n",
    "    for i, t in enumerate(teams):\n",
    "        team_indices[t] = i\n",
    "    lex = pd.DataFrame(list(team_indices.items()), columns=[\"team\", \"index\"])\n",
    "    lex.set_index(\"team\", inplace=True)\n",
    "    return lex\n",
    "\n",
    "\n",
    "def _get_goal_results(df: pd.DataFrame, team_indices: pd.DataFrame):\n",
    "    home_goals = list()\n",
    "    away_goals = list()\n",
    "    for _, r in df.iterrows():\n",
    "        home_team = r.HomeTeam\n",
    "\n",
    "        away_team = r.AwayTeam\n",
    "        home_goals.append(\n",
    "            (\n",
    "                team_indices.loc[home_team, \"index\"],\n",
    "                team_indices.loc[away_team, \"index\"],\n",
    "                r[GOALS_HOME],\n",
    "            )\n",
    "        )\n",
    "        away_goals.append(\n",
    "            (\n",
    "                team_indices.loc[home_team, \"index\"],\n",
    "                team_indices.loc[away_team, \"index\"],\n",
    "                r[GOALS_AWAY],\n",
    "            )\n",
    "        )\n",
    "\n",
    "    return home_goals, away_goals\n",
    "\n",
    "\n",
    "def _vectorized_data(home_goals_, away_goals_) -> pd.DataFrame:\n",
    "    home_id = np.array([hg[0] for hg in home_goals_])\n",
    "    away_id = np.array([hg[1] for hg in home_goals_])\n",
    "    home_goals = np.array([hg[2] for hg in home_goals_])\n",
    "    away_goals = np.array([ag[2] for ag in away_goals_])\n",
    "    toto = np.where(\n",
    "        home_goals == away_goals, 0, np.where(home_goals > away_goals, 1, 2)\n",
    "    )\n",
    "    vectorized_data = pd.DataFrame(\n",
    "        {\n",
    "            \"home_id\": home_id,\n",
    "            \"away_id\": away_id,\n",
    "            \"home_goals\": home_goals,\n",
    "            \"away_goals\": away_goals,\n",
    "            \"toto\": toto,\n",
    "        }\n",
    "    )\n",
    "\n",
    "    return vectorized_data\n",
    "\n",
    "\n",
    "def preprocess_league_data(df: pd.DataFrame) -> pd.DataFrame:\n",
    "    teams = _get_teams(df)\n",
    "    team_indices = _build_team_lexicon(teams=teams)\n",
    "    home_goals_, away_goals_ = _get_goal_results(df=df, team_indices=team_indices)\n",
    "\n",
    "    # list of tuples\n",
    "    # (home_team-index, away_team_index, scored_goals of home team resp. away team)\n",
    "\n",
    "    return _vectorized_data(home_goals_, away_goals_), team_indices\n",
    "\n",
    "\n",
    "def create_model_input_data(df: pd.DataFrame) -> pd.DataFrame:\n",
    "    # merge if we use more then D1 Bundesliga data\n",
    "    model_input_table = df\n",
    "    return model_input_table"
   ]
  },
  {
   "cell_type": "code",
   "execution_count": 3,
   "metadata": {},
   "outputs": [],
   "source": [
    "import pymc as pm\n",
    "\n",
    "model_coords = {\n",
    "    \"team\": _get_teams_new(df)[1],\n",
    "    \"match\": np.arange(len(df)),\n",
    "    \"skill\": [\"offence\", \"defence\"],\n",
    "    \"field\": [\"home\", \"away\"],\n",
    "}\n",
    "model_config: dict = {\n",
    "    \"offence_mu_prior\": 0.0,\n",
    "    \"offence_tau_prior\": 1.0,\n",
    "    \"defence_mu_prior\": 0.0,\n",
    "    \"defence_tau_prior\": 1.0,\n",
    "    \"shape_priors\": 18,  # toDo: check this for the number of teams\n",
    "}\n",
    "vec_df = preprocess_league_data(df)[0]\n",
    "\n",
    "x_data = preprocess_league_data(df)[0]"
   ]
  },
  {
   "cell_type": "code",
   "execution_count": 4,
   "metadata": {},
   "outputs": [
    {
     "name": "stdout",
     "output_type": "stream",
     "text": [
      "[[1.52709373 0.56008613]]\n",
      "OFFENCE:  [[0.53841742 1.3476087 ]]\n",
      "DEFENCE:  [[1.52709373 0.56008613]]\n",
      "Total:  [[-0.02166871 -0.17948503]]\n",
      "GOALS:  [-0.17948503]\n"
     ]
    }
   ],
   "source": [
    "# Set random seed\n",
    "np.random.seed(42)\n",
    "min_mu = 0.0001\n",
    "with pm.Model(coords=model_coords) as model:\n",
    "    # Create mutable data containers\n",
    "    team_idx = pm.Data(\n",
    "        \"team_idx\", vec_df[[\"home_id\", \"away_id\"]].values, dims=(\"match\", \"field\")\n",
    "    )\n",
    "    goals = pm.Data(\n",
    "        \"goals\", vec_df[[\"home_goals\", \"away_goals\"]], dims=(\"match\", \"field\")\n",
    "    )\n",
    "    off_mu_prior = model_config.get(\"off_mu_prior\", 3 / 2)\n",
    "    def_mu_prior = model_config.get(\"def_mu_prior\", 0.0)\n",
    "    off_tau_prior = model_config.get(\"off_tau_prior\", 1.0)\n",
    "    def_tau_prior = model_config.get(\"def_tau_prior\", 1.0)\n",
    "\n",
    "    # priors\n",
    "    offence = pm.Normal(\n",
    "        \"offence\",\n",
    "        mu=off_mu_prior,\n",
    "        sigma=off_tau_prior,\n",
    "        # shape=shape_priors, ### kann ich auf shapes verzichten, wenn dims verwendet werden?\n",
    "        dims=\"team\",\n",
    "    )\n",
    "    defence = pm.Normal(\n",
    "        \"defence\",\n",
    "        mu=def_mu_prior,\n",
    "        tau=def_tau_prior,\n",
    "        dims=\"team\",\n",
    "    )\n",
    "    # offence2 = pm.Normal(\n",
    "    #     \"offence2\",\n",
    "    #     mu=off_mu_prior,\n",
    "    #     sigma=off_tau_prior,\n",
    "    #     shape=18,\n",
    "    # )\n",
    "\n",
    "    # print(team_idx.eval()[:5])\n",
    "    # print(\"Offence NEW: \\n\", offence_home.eval()[:5])\n",
    "    # print(\"Offence OLD: \\n\", x_data[\"home_id\"].values[:5])\n",
    "    # print(\"Offence OLD: \\n\", offence_home_old.eval()[:5])\n",
    "\n",
    "    offence_home_away = offence[team_idx]\n",
    "    defence_home_away = defence[team_idx]\n",
    "    print(defence_home_away.eval()[:1][:1])\n",
    "\n",
    "    mu_home_away = offence_home_away - defence_home_away.eval()[:, [1, 0]]\n",
    "\n",
    "    mu_home = mu_home_away[:, 0]\n",
    "    mu_away = mu_home_away[:, 1]\n",
    "\n",
    "    print(\"OFFENCE: \", offence_home_away.eval()[:1])\n",
    "    print(\"DEFENCE: \", defence_home_away.eval()[:1])\n",
    "    print(\"Total: \", mu_home_away.eval()[:1])\n",
    "    print(\"GOALS: \", mu_home_away.eval()[:1, 1])\n",
    "    # # note: use exponent in practice instead of switch\n",
    "    mu_home = pm.math.switch(mu_home > min_mu, mu_home, min_mu)\n",
    "    mu_away = pm.math.switch(mu_away > min_mu, mu_away, min_mu)\n",
    "\n",
    "    # observed\n",
    "    # pm.Poisson(\n",
    "    #     \"points\",\n",
    "    #     observed=vec_df[[\"home_goals\", \"away_goals\"]],\n",
    "    #     mu=np.transpose([mu_home.eval(), mu_away.eval()]), #toDO: transpose in aesera auslagen, performance schlecht\n",
    "    #     dims=(\"match\", \"field\"),\n",
    "    # )\n",
    "    pm.Poisson(\"home_goals\", observed=vec_df[\"home_goals\"], mu=mu_home, dims=\"match\")\n",
    "    pm.Poisson(\"away_goals\", observed=vec_df[\"away_goals\"], mu=mu_away, dims=\"match\")\n"
   ]
  },
  {
   "cell_type": "code",
   "execution_count": 5,
   "metadata": {},
   "outputs": [
    {
     "data": {
      "application/vnd.jupyter.widget-view+json": {
       "model_id": "bbb1af11783e496584ec82e8844829fb",
       "version_major": 2,
       "version_minor": 0
      },
      "text/plain": [
       "Output()"
      ]
     },
     "metadata": {},
     "output_type": "display_data"
    },
    {
     "data": {
      "text/html": [
       "<pre style=\"white-space:pre;overflow-x:auto;line-height:normal;font-family:Menlo,'DejaVu Sans Mono',consolas,'Courier New',monospace\"></pre>\n"
      ],
      "text/plain": []
     },
     "metadata": {},
     "output_type": "display_data"
    },
    {
     "data": {
      "text/html": [
       "<pre style=\"white-space:pre;overflow-x:auto;line-height:normal;font-family:Menlo,'DejaVu Sans Mono',consolas,'Courier New',monospace\"><span style=\"color: #7fbfbf; text-decoration-color: #7fbfbf\">[12/16/24 12:13:45] </span><span style=\"color: #800000; text-decoration-color: #800000; font-weight: bold\">ERROR   </span> There were <span style=\"color: #008080; text-decoration-color: #008080; font-weight: bold\">27</span> divergences after tuning. Increase `target_accept` or <a href=\"file://h:\\Programs\\Anaconda\\envs\\.conda_ba_env\\Lib\\site-packages\\pymc\\stats\\convergence.py\" target=\"_blank\"><span style=\"color: #7f7f7f; text-decoration-color: #7f7f7f\">convergence.py</span></a><span style=\"color: #7f7f7f; text-decoration-color: #7f7f7f\">:</span><a href=\"file://h:\\Programs\\Anaconda\\envs\\.conda_ba_env\\Lib\\site-packages\\pymc\\stats\\convergence.py#181\" target=\"_blank\"><span style=\"color: #7f7f7f; text-decoration-color: #7f7f7f\">181</span></a>\n",
       "<span style=\"color: #7fbfbf; text-decoration-color: #7fbfbf\">                    </span>         reparameterize.                                                     <span style=\"color: #7f7f7f; text-decoration-color: #7f7f7f\">                  </span>\n",
       "</pre>\n"
      ],
      "text/plain": [
       "\u001b[2;36m[12/16/24 12:13:45]\u001b[0m\u001b[2;36m \u001b[0m\u001b[1;31mERROR   \u001b[0m There were \u001b[1;36m27\u001b[0m divergences after tuning. Increase `target_accept` or \u001b]8;id=86939;file://h:\\Programs\\Anaconda\\envs\\.conda_ba_env\\Lib\\site-packages\\pymc\\stats\\convergence.py\u001b\\\u001b[2mconvergence.py\u001b[0m\u001b]8;;\u001b\\\u001b[2m:\u001b[0m\u001b]8;id=418257;file://h:\\Programs\\Anaconda\\envs\\.conda_ba_env\\Lib\\site-packages\\pymc\\stats\\convergence.py#181\u001b\\\u001b[2m181\u001b[0m\u001b]8;;\u001b\\\n",
       "\u001b[2;36m                    \u001b[0m         reparameterize.                                                     \u001b[2m                  \u001b[0m\n"
      ]
     },
     "metadata": {},
     "output_type": "display_data"
    }
   ],
   "source": [
    "nb_samples = 2000\n",
    "### tune adds additional number of samples.\n",
    "### after sampling these additional samples get discarded\n",
    "### as the very first samples are very inaccurate\n",
    "tune = nb_samples // 10\n",
    "\n",
    "with model:\n",
    "    # with model1_home_advantage:\n",
    "    trace = pm.sample(draws=nb_samples, tune=tune)"
   ]
  },
  {
   "cell_type": "code",
   "execution_count": 151,
   "metadata": {},
   "outputs": [
    {
     "name": "stderr",
     "output_type": "stream",
     "text": [
      "[autoreload of cutils_ext failed: Traceback (most recent call last):\n",
      "  File \"h:\\Programs\\Anaconda\\envs\\.conda_ba_env\\Lib\\site-packages\\IPython\\extensions\\autoreload.py\", line 276, in check\n",
      "    superreload(m, reload, self.old_objects)\n",
      "  File \"h:\\Programs\\Anaconda\\envs\\.conda_ba_env\\Lib\\site-packages\\IPython\\extensions\\autoreload.py\", line 475, in superreload\n",
      "    module = reload(module)\n",
      "             ^^^^^^^^^^^^^^\n",
      "  File \"h:\\Programs\\Anaconda\\envs\\.conda_ba_env\\Lib\\importlib\\__init__.py\", line 130, in reload\n",
      "    raise ModuleNotFoundError(f\"spec not found for the module {name!r}\", name=name)\n",
      "ModuleNotFoundError: spec not found for the module 'cutils_ext'\n",
      "]\n"
     ]
    }
   ],
   "source": [
    "posterior = trace.posterior.stack(sample=[\"chain\", \"draw\"])\n",
    "offence = posterior[\"offence\"]\n",
    "defence = posterior[\"defence\"]\n",
    "# home_advantage = posterior[\"home_advantage\"]"
   ]
  },
  {
   "cell_type": "code",
   "execution_count": 152,
   "metadata": {},
   "outputs": [
    {
     "name": "stdout",
     "output_type": "stream",
     "text": [
      "Mean offence strenght per team:\n",
      "Augsburg   1.8081668635871209\n",
      "Bayern Munich   2.868903103847895\n",
      "Bochum   1.6311599195036814\n",
      "Darmstadt   1.4537332181871214\n",
      "Dortmund   2.4115209925587653\n",
      "Ein Frankfurt   1.7779422480186813\n",
      "FC Koln   1.4084998782748248\n",
      "Freiburg   1.6744086686216746\n",
      "Heidenheim   1.8936196782829025\n",
      "Hoffenheim   2.165119499848583\n",
      "Leverkusen   2.8744730625970343\n",
      "M'gladbach   1.9011109601995968\n",
      "Mainz   1.5547430984259645\n",
      "RB Leipzig   2.5107550157168306\n",
      "Stuttgart   2.6209707557437545\n",
      "Union Berlin   1.345922946496733\n",
      "Werder Bremen   1.8128745338828118\n",
      "Wolfsburg   1.7214169774238688\n"
     ]
    }
   ],
   "source": [
    "print(\"Mean offence strenght per team:\")\n",
    "for i, t in enumerate(model_coords[\"team\"]):\n",
    "    print(t, \" \", offence[i].mean().values)"
   ]
  },
  {
   "cell_type": "code",
   "execution_count": 144,
   "metadata": {},
   "outputs": [
    {
     "name": "stdout",
     "output_type": "stream",
     "text": [
      "Mean offence strenght per team:\n",
      "Augsburg   -0.007959309733199563\n",
      "Bayern Munich   -0.011272908908565157\n",
      "Bochum   -0.0031239432849411337\n",
      "Darmstadt   0.0025963671530729905\n",
      "Dortmund   0.006944529417375259\n",
      "Ein Frankfurt   -0.014074155662830224\n",
      "FC Koln   -0.0014080217587279632\n",
      "Freiburg   0.0028746969854293604\n",
      "Heidenheim   -0.00603717441324017\n",
      "Hoffenheim   -0.0035334183670442973\n",
      "Leverkusen   -0.01212433780132489\n",
      "M'gladbach   -0.0032155458607579725\n",
      "Mainz   0.005676573363724497\n",
      "RB Leipzig   0.0077647002066565975\n",
      "Stuttgart   -0.0033859249364242235\n",
      "Union Berlin   0.008040982993080436\n",
      "Werder Bremen   -0.011724093584508922\n",
      "Wolfsburg   0.0006025411713604596\n"
     ]
    }
   ],
   "source": [
    "print(\"Mean offence strenght per team:\")\n",
    "for i, t in enumerate(model_coords[\"team\"]):\n",
    "    print(t, \" \", defence[i].mean().values)"
   ]
  },
  {
   "cell_type": "code",
   "execution_count": null,
   "metadata": {},
   "outputs": [],
   "source": [
    "model_coords"
   ]
  },
  {
   "cell_type": "code",
   "execution_count": null,
   "metadata": {},
   "outputs": [],
   "source": [
    "# # Evaluate the data container\n",
    "# data = model[\"team_idx\"].eval()\n",
    "\n",
    "# # Show the data by dimension\n",
    "# home_field_data = data[\n",
    "#     :, model_coords[\"field\"].index(\"home\")\n",
    "# ]  # Data for the \"home\" field\n",
    "# away_field_data = data[\n",
    "#     :, model_coords[\"field\"].index(\"away\")\n",
    "# ]  # Data for the \"away\" field\n",
    "\n",
    "# print(\"Home Field Data:\", home_field_data)\n",
    "# print(\"Away Field Data:\", away_field_data)\n",
    "\n",
    "\n"
   ]
  }
 ],
 "metadata": {
  "kernelspec": {
   "display_name": "Python 3",
   "language": "python",
   "name": "python3"
  },
  "language_info": {
   "codemirror_mode": {
    "name": "ipython",
    "version": 3
   },
   "file_extension": ".py",
   "mimetype": "text/x-python",
   "name": "python",
   "nbconvert_exporter": "python",
   "pygments_lexer": "ipython3",
   "version": "3.12.8"
  }
 },
 "nbformat": 4,
 "nbformat_minor": 2
}
